{
  "cells": [
    {
      "cell_type": "markdown",
      "metadata": {
        "id": "3rYiDeEH0q0f"
      },
      "source": [
        "# ¿Cuál es la mejor tarifa?\n",
        "\n",
        "Trabajas como analista para el operador de telecomunicaciones Megaline. La empresa ofrece a sus clientes dos tarifas de prepago, Surf y Ultimate. El departamento comercial quiere saber cuál de las tarifas genera más ingresos para poder ajustar el presupuesto de publicidad.\n",
        "\n",
        "Vas a realizar un análisis preliminar de las tarifas basado en una selección de clientes relativamente pequeña. Tendrás los datos de 500 clientes de Megaline: quiénes son los clientes, de dónde son, qué tarifa usan, así como la cantidad de llamadas que hicieron y los mensajes de texto que enviaron en 2018. Tu trabajo es analizar el comportamiento de los clientes y determinar qué tarifa de prepago genera más ingresos."
      ]
    },
    {
      "cell_type": "markdown",
      "metadata": {
        "id": "MQi4IPy70q0y"
      },
      "source": [
        "## Inicialización"
      ]
    },
    {
      "cell_type": "code",
      "execution_count": 4,
      "metadata": {
        "id": "MtYIuBxu0q0z"
      },
      "outputs": [],
      "source": [
        "# Cargar todas las librerías\n",
        "\n",
        "from scipy import stats as st\n",
        "import pandas as pd\n",
        "import numpy as np\n",
        "import math as mt\n",
        "from math import factorial\n",
        "import seaborn as sns\n",
        "import matplotlib.pyplot as plt\n",
        "\n",
        "# Configurar las opciones de visualización\n",
        "sns.set(style=\"whitegrid\")"
      ]
    },
    {
      "cell_type": "markdown",
      "metadata": {
        "id": "4ysWWC5i0q00"
      },
      "source": [
        "## Cargar datos"
      ]
    },
    {
      "cell_type": "code",
      "execution_count": 5,
      "metadata": {
        "id": "CCqPW7rS0q01"
      },
      "outputs": [],
      "source": [
        "# Carga los archivos de datos en diferentes DataFrames\n",
        "\n",
        "megaline_users = pd.read_csv('megaline_users.csv')\n",
        "megaline_calls = pd.read_csv('megaline_calls.csv')\n",
        "megaline_messages = pd.read_csv('megaline_messages.csv')\n",
        "megaline_internet = pd.read_csv('megaline_internet.csv')\n",
        "megaline_plans = pd.read_csv('megaline_plans.csv')"
      ]
    },
    {
      "cell_type": "markdown",
      "metadata": {
        "id": "69qqoJ3r0q01"
      },
      "source": [
        "## Preparar los datos"
      ]
    },
    {
      "cell_type": "markdown",
      "metadata": {
        "id": "ohBhimvH0q01"
      },
      "source": [
        "## Tarifas"
      ]
    },
    {
      "cell_type": "code",
      "execution_count": 6,
      "metadata": {
        "colab": {
          "base_uri": "https://localhost:8080/"
        },
        "id": "GptqP3Q40q02",
        "outputId": "7d31566c-7084-4b82-f247-57125219f383"
      },
      "outputs": [
        {
          "name": "stdout",
          "output_type": "stream",
          "text": [
            "Información general sobre el DataFrame de las tarifas:\n",
            "<class 'pandas.core.frame.DataFrame'>\n",
            "RangeIndex: 2 entries, 0 to 1\n",
            "Data columns (total 8 columns):\n",
            " #   Column                 Non-Null Count  Dtype  \n",
            "---  ------                 --------------  -----  \n",
            " 0   messages_included      2 non-null      int64  \n",
            " 1   mb_per_month_included  2 non-null      int64  \n",
            " 2   minutes_included       2 non-null      int64  \n",
            " 3   usd_monthly_pay        2 non-null      int64  \n",
            " 4   usd_per_gb             2 non-null      int64  \n",
            " 5   usd_per_message        2 non-null      float64\n",
            " 6   usd_per_minute         2 non-null      float64\n",
            " 7   plan_name              2 non-null      object \n",
            "dtypes: float64(2), int64(5), object(1)\n",
            "memory usage: 260.0+ bytes\n",
            "None\n"
          ]
        }
      ],
      "source": [
        "# Imprime la información general/resumida sobre el DataFrame de las tarifas\n",
        "\n",
        "print(\"Información general sobre el DataFrame de las tarifas:\")\n",
        "print(megaline_plans.info())"
      ]
    },
    {
      "cell_type": "code",
      "execution_count": 7,
      "metadata": {
        "colab": {
          "base_uri": "https://localhost:8080/"
        },
        "id": "64xzjwL70q02",
        "outputId": "e54cab4b-6106-40ff-8e11-bf4368e86249"
      },
      "outputs": [
        {
          "name": "stdout",
          "output_type": "stream",
          "text": [
            "Muestra de los datos para las tarifas:\n",
            "   messages_included  mb_per_month_included  minutes_included  \\\n",
            "0                 50                  15360               500   \n",
            "1               1000                  30720              3000   \n",
            "\n",
            "   usd_monthly_pay  usd_per_gb  usd_per_message  usd_per_minute plan_name  \n",
            "0               20          10             0.03            0.03      surf  \n",
            "1               70           7             0.01            0.01  ultimate  \n"
          ]
        }
      ],
      "source": [
        "# Imprime una muestra de los datos para las tarifas\n",
        "\n",
        "print(\"Muestra de los datos para las tarifas:\")\n",
        "print(megaline_plans.head())\n"
      ]
    },
    {
      "cell_type": "markdown",
      "metadata": {
        "id": "mEc_3_hs0q02"
      },
      "source": [
        "Tipos de Datos:\n",
        "\n",
        "Los tipos de datos parecen ser correctos según lo que se esperaría para cada columna. Las columnas numéricas están adecuadamente en formatos int64 o float64 y la columna plan_name está en formato object.\n",
        "\n",
        "Valores Nulos:\n",
        "\n",
        "No hay valores nulos en el DataFrame, lo cual es positivo y sugiere que los datos están completos en cuanto a las entradas."
      ]
    },
    {
      "cell_type": "markdown",
      "metadata": {
        "id": "R3C05i1l0q03"
      },
      "source": [
        "## Corregir datos"
      ]
    },
    {
      "cell_type": "markdown",
      "metadata": {
        "id": "bIi8StZI0q03"
      },
      "source": [
        "N/A ya que No se observan problemas obvios en los datos.\n",
        "\n",
        "No hay valores nulos.\n",
        "\n",
        "Todos los tipos de datos son correctos."
      ]
    },
    {
      "cell_type": "markdown",
      "metadata": {
        "id": "LJir7bml0q03"
      },
      "source": [
        "## Enriquecer los datos"
      ]
    },
    {
      "cell_type": "markdown",
      "metadata": {
        "id": "eqADpCfg0q04"
      },
      "source": [
        "Para enriquecer los datos del DataFrame megaline_plans, podemos agregar algunas columnas que pueden ser útiles para el análisis posterior.\n",
        "\n",
        "1. Costo mensual por minuto adicional:\n",
        "\n",
        "Calculamos el costo por minuto adicional mensual en caso de que un usuario exceda los minutos incluidos en su plan.\n",
        "\n",
        "2. Costo mensual por SMS adicional:\n",
        "\n",
        "Calculamos el costo por SMS adicional mensual en caso de que un usuario exceda los SMS incluidos en su plan.\n",
        "\n",
        "3. Costo mensual por GB adicional:\n",
        "\n",
        "Calculamos el costo por GB adicional mensual en caso de que un usuario exceda los datos incluidos en su plan."
      ]
    },
    {
      "cell_type": "code",
      "execution_count": 8,
      "metadata": {
        "colab": {
          "base_uri": "https://localhost:8080/"
        },
        "id": "gfcIEuXV0q04",
        "outputId": "1d081464-e14d-4abb-8c01-3ce3514ed957"
      },
      "outputs": [
        {
          "name": "stdout",
          "output_type": "stream",
          "text": [
            "   messages_included  mb_per_month_included  minutes_included  \\\n",
            "0                 50                  15360               500   \n",
            "1               1000                  30720              3000   \n",
            "\n",
            "   usd_monthly_pay  usd_per_gb  usd_per_message  usd_per_minute plan_name  \\\n",
            "0               20          10             0.03            0.03      surf   \n",
            "1               70           7             0.01            0.01  ultimate   \n",
            "\n",
            "   monthly_extra_minute_cost  monthly_extra_message_cost  \\\n",
            "0                       15.0                         1.5   \n",
            "1                       30.0                        10.0   \n",
            "\n",
            "   monthly_extra_gb_cost  \n",
            "0                  150.0  \n",
            "1                  210.0  \n"
          ]
        }
      ],
      "source": [
        "megaline_plans['monthly_extra_minute_cost'] = megaline_plans['usd_per_minute'] * megaline_plans['minutes_included']\n",
        "megaline_plans['monthly_extra_message_cost'] = megaline_plans['usd_per_message'] * megaline_plans['messages_included']\n",
        "# 1 gigabyte (GB) equivale a 1024 megabytes (MB).\n",
        "megaline_plans['monthly_extra_gb_cost'] = megaline_plans['usd_per_gb'] * (megaline_plans['mb_per_month_included'] / 1024)\n",
        "\n",
        "# Imprimir la información del DataFrame enriquecido\n",
        "print(megaline_plans.head())"
      ]
    },
    {
      "cell_type": "markdown",
      "metadata": {
        "id": "1n2X6WXf0q04"
      },
      "source": [
        "## Usuarios/as"
      ]
    },
    {
      "cell_type": "code",
      "execution_count": 9,
      "metadata": {
        "colab": {
          "base_uri": "https://localhost:8080/"
        },
        "id": "2NgjWFqx0q05",
        "outputId": "ae251b20-4676-491c-925e-4503c5a1cede"
      },
      "outputs": [
        {
          "name": "stdout",
          "output_type": "stream",
          "text": [
            "Información general sobre el DataFrame de Usuarios:\n",
            "<class 'pandas.core.frame.DataFrame'>\n",
            "RangeIndex: 500 entries, 0 to 499\n",
            "Data columns (total 8 columns):\n",
            " #   Column      Non-Null Count  Dtype \n",
            "---  ------      --------------  ----- \n",
            " 0   user_id     500 non-null    int64 \n",
            " 1   first_name  500 non-null    object\n",
            " 2   last_name   500 non-null    object\n",
            " 3   age         500 non-null    int64 \n",
            " 4   city        500 non-null    object\n",
            " 5   reg_date    500 non-null    object\n",
            " 6   plan        500 non-null    object\n",
            " 7   churn_date  34 non-null     object\n",
            "dtypes: int64(2), object(6)\n",
            "memory usage: 31.4+ KB\n",
            "None\n"
          ]
        }
      ],
      "source": [
        "# Imprime la información general/resumida sobre el DataFrame de usuarios\n",
        "\n",
        "print(\"Información general sobre el DataFrame de Usuarios:\")\n",
        "print(megaline_users.info())"
      ]
    },
    {
      "cell_type": "code",
      "execution_count": 10,
      "metadata": {
        "colab": {
          "base_uri": "https://localhost:8080/"
        },
        "id": "1IN1L9uh0q05",
        "outputId": "de2209a3-6313-4a37-8a7d-51d8db70c80c"
      },
      "outputs": [
        {
          "name": "stdout",
          "output_type": "stream",
          "text": [
            "Muestra de datos para usuarios:\n",
            "   user_id first_name  last_name  age                                   city  \\\n",
            "0     1000   Anamaria      Bauer   45  Atlanta-Sandy Springs-Roswell, GA MSA   \n",
            "1     1001     Mickey  Wilkerson   28        Seattle-Tacoma-Bellevue, WA MSA   \n",
            "2     1002     Carlee    Hoffman   36   Las Vegas-Henderson-Paradise, NV MSA   \n",
            "3     1003   Reynaldo    Jenkins   52                          Tulsa, OK MSA   \n",
            "4     1004    Leonila   Thompson   40        Seattle-Tacoma-Bellevue, WA MSA   \n",
            "\n",
            "     reg_date      plan churn_date  \n",
            "0  2018-12-24  ultimate        NaN  \n",
            "1  2018-08-13      surf        NaN  \n",
            "2  2018-10-21      surf        NaN  \n",
            "3  2018-01-28      surf        NaN  \n",
            "4  2018-05-23      surf        NaN  \n"
          ]
        }
      ],
      "source": [
        "# Imprime una muestra de datos para usuarios\n",
        "\n",
        "print(\"Muestra de datos para usuarios:\")\n",
        "print(megaline_users.head())"
      ]
    },
    {
      "cell_type": "markdown",
      "metadata": {
        "id": "dCZoUq4f0q06"
      },
      "source": [
        "Observaciones\n",
        "Tipos de Datos:\n",
        "\n",
        "Las columnas reg_date y churn_date están en formato object, lo que indica que están almacenadas como cadenas de texto. Sería útil convertirlas a un formato de fecha (datetime) para facilitar el análisis temporal.\n",
        "\n",
        "Las demás columnas parecen tener los tipos de datos adecuados (int64 para user_id y age, object para nombres, ciudad y plan).\n",
        "\n",
        "Valores Nulos:\n",
        "\n",
        "La columna churn_date tiene 34 valores no nulos, lo que significa que solo 34 de los 500 usuarios no se han dado de baja. Esto no es necesariamente un problema, pero es importante tenerlo en cuenta en el análisis."
      ]
    },
    {
      "cell_type": "markdown",
      "metadata": {
        "id": "BX5FQh_I0q06"
      },
      "source": [
        "### Corregir los datos"
      ]
    },
    {
      "cell_type": "code",
      "execution_count": 11,
      "metadata": {
        "colab": {
          "base_uri": "https://localhost:8080/"
        },
        "id": "yUqX-K0C0q07",
        "outputId": "0956baaa-b6f3-4830-8be2-34714e979bf6"
      },
      "outputs": [
        {
          "name": "stdout",
          "output_type": "stream",
          "text": [
            "Información general después de la corrección:\n",
            "<class 'pandas.core.frame.DataFrame'>\n",
            "RangeIndex: 500 entries, 0 to 499\n",
            "Data columns (total 8 columns):\n",
            " #   Column      Non-Null Count  Dtype         \n",
            "---  ------      --------------  -----         \n",
            " 0   user_id     500 non-null    int64         \n",
            " 1   first_name  500 non-null    object        \n",
            " 2   last_name   500 non-null    object        \n",
            " 3   age         500 non-null    int64         \n",
            " 4   city        500 non-null    object        \n",
            " 5   reg_date    500 non-null    datetime64[ns]\n",
            " 6   plan        500 non-null    object        \n",
            " 7   churn_date  34 non-null     datetime64[ns]\n",
            "dtypes: datetime64[ns](2), int64(2), object(4)\n",
            "memory usage: 31.4+ KB\n",
            "None\n",
            "\n",
            "Muestra de los datos después de la corrección:\n",
            "   user_id first_name  last_name  age                                   city  \\\n",
            "0     1000   Anamaria      Bauer   45  Atlanta-Sandy Springs-Roswell, GA MSA   \n",
            "1     1001     Mickey  Wilkerson   28        Seattle-Tacoma-Bellevue, WA MSA   \n",
            "2     1002     Carlee    Hoffman   36   Las Vegas-Henderson-Paradise, NV MSA   \n",
            "3     1003   Reynaldo    Jenkins   52                          Tulsa, OK MSA   \n",
            "4     1004    Leonila   Thompson   40        Seattle-Tacoma-Bellevue, WA MSA   \n",
            "\n",
            "    reg_date      plan churn_date  \n",
            "0 2018-12-24  ultimate        NaT  \n",
            "1 2018-08-13      surf        NaT  \n",
            "2 2018-10-21      surf        NaT  \n",
            "3 2018-01-28      surf        NaT  \n",
            "4 2018-05-23      surf        NaT  \n"
          ]
        }
      ],
      "source": [
        "# Convertir las columnas de fecha a tipo datetime\n",
        "megaline_users['reg_date'] = pd.to_datetime(megaline_users['reg_date'])\n",
        "megaline_users['churn_date'] = pd.to_datetime(megaline_users['churn_date'])\n",
        "\n",
        "# Imprimir la información general después de la corrección\n",
        "print(\"Información general después de la corrección:\")\n",
        "print(megaline_users.info())\n",
        "\n",
        "# Imprimir una muestra de los datos después de la corrección\n",
        "print(\"\\nMuestra de los datos después de la corrección:\")\n",
        "print(megaline_users.head())\n"
      ]
    },
    {
      "cell_type": "markdown",
      "metadata": {
        "id": "ycwuARJp0q07"
      },
      "source": [
        "### Enriquecer los datos"
      ]
    },
    {
      "cell_type": "markdown",
      "metadata": {
        "id": "96NIh4CJ0q08"
      },
      "source": [
        "Duración de la suscripción:\n",
        "\n",
        "Calculamos el tiempo que cada usuario ha estado suscrito al servicio.\n",
        "\n",
        "Edad en grupos: Agrupamos las edades en categorías, como jóvenes (18-25), adultos jóvenes (26-35), adultos (36-50), y mayores (51+)."
      ]
    },
    {
      "cell_type": "markdown",
      "metadata": {},
      "source": [
        "se está aplicando pd.cut a la columna age para agrupar las edades en rangos definidos por la lista bins. Luego, a cada rango se le asigna una etiqueta específica a través del parámetro labels. \n",
        "\n",
        "\n",
        "El parámetro right=False en pd.cut indica que los intervalos serán cerrados por la izquierda y abiertos por la derecha. Esto significa que, en cada bin, se incluye el límite inferior pero se excluye el límite superior."
      ]
    },
    {
      "cell_type": "code",
      "execution_count": 12,
      "metadata": {
        "colab": {
          "base_uri": "https://localhost:8080/"
        },
        "id": "iq0AaBS90q08",
        "outputId": "2ec41f60-5c95-43d7-f805-1694685ad16b"
      },
      "outputs": [
        {
          "name": "stdout",
          "output_type": "stream",
          "text": [
            "   user_id first_name  last_name  age                                   city  \\\n",
            "0     1000   Anamaria      Bauer   45  Atlanta-Sandy Springs-Roswell, GA MSA   \n",
            "1     1001     Mickey  Wilkerson   28        Seattle-Tacoma-Bellevue, WA MSA   \n",
            "2     1002     Carlee    Hoffman   36   Las Vegas-Henderson-Paradise, NV MSA   \n",
            "3     1003   Reynaldo    Jenkins   52                          Tulsa, OK MSA   \n",
            "4     1004    Leonila   Thompson   40        Seattle-Tacoma-Bellevue, WA MSA   \n",
            "\n",
            "    reg_date      plan churn_date  subscription_duration_days  \\\n",
            "0 2018-12-24  ultimate        NaT                           7   \n",
            "1 2018-08-13      surf        NaT                         140   \n",
            "2 2018-10-21      surf        NaT                          71   \n",
            "3 2018-01-28      surf        NaT                         337   \n",
            "4 2018-05-23      surf        NaT                         222   \n",
            "\n",
            "                 age_group  \n",
            "0          Adultos (36-50)  \n",
            "1  Adultos jóvenes (26-35)  \n",
            "2          Adultos (36-50)  \n",
            "3            Mayores (51+)  \n",
            "4          Adultos (36-50)  \n"
          ]
        }
      ],
      "source": [
        "# Añadir la columna de duración de la suscripción en días\n",
        "megaline_users['subscription_duration_days'] = (megaline_users['churn_date'].fillna(pd.Timestamp('2018-12-31')) - megaline_users['reg_date']).dt.days\n",
        "\n",
        "bins = [18, 25, 35, 50, 100]\n",
        "labels = ['Jóvenes (18-25)', 'Adultos jóvenes (26-35)', 'Adultos (36-50)', 'Mayores (51+)']\n",
        "megaline_users['age_group'] = pd.cut(megaline_users['age'], bins=bins, labels=labels, right=False)\n",
        "\n",
        "# Imprimir la información del DataFrame enriquecido\n",
        "print(megaline_users.head())"
      ]
    },
    {
      "cell_type": "markdown",
      "metadata": {
        "id": "o7MeKCid0q08"
      },
      "source": [
        "## Llamadas"
      ]
    },
    {
      "cell_type": "code",
      "execution_count": 13,
      "metadata": {
        "colab": {
          "base_uri": "https://localhost:8080/"
        },
        "id": "6dDlnoDm0q08",
        "outputId": "3a6b8d89-de45-40a6-9c63-b621fea9f49b"
      },
      "outputs": [
        {
          "name": "stdout",
          "output_type": "stream",
          "text": [
            "Información general sobre el DataFrame de las llamadas:\n",
            "<class 'pandas.core.frame.DataFrame'>\n",
            "RangeIndex: 137735 entries, 0 to 137734\n",
            "Data columns (total 4 columns):\n",
            " #   Column     Non-Null Count   Dtype  \n",
            "---  ------     --------------   -----  \n",
            " 0   id         137735 non-null  object \n",
            " 1   user_id    137735 non-null  int64  \n",
            " 2   call_date  137735 non-null  object \n",
            " 3   duration   137735 non-null  float64\n",
            "dtypes: float64(1), int64(1), object(2)\n",
            "memory usage: 4.2+ MB\n",
            "None\n"
          ]
        }
      ],
      "source": [
        "# Imprime la información general/resumida sobre el DataFrame de las llamadas\n",
        "\n",
        "print(\"Información general sobre el DataFrame de las llamadas:\")\n",
        "print(megaline_calls.info())"
      ]
    },
    {
      "cell_type": "code",
      "execution_count": 14,
      "metadata": {
        "colab": {
          "base_uri": "https://localhost:8080/"
        },
        "id": "kuh1vlNB0q09",
        "outputId": "0d12bf70-a683-4780-eaa7-90dc94bd26eb"
      },
      "outputs": [
        {
          "name": "stdout",
          "output_type": "stream",
          "text": [
            "Muestra de datos para las llamadas:\n",
            "         id  user_id   call_date  duration\n",
            "0   1000_93     1000  2018-12-27      8.52\n",
            "1  1000_145     1000  2018-12-27     13.66\n",
            "2  1000_247     1000  2018-12-27     14.48\n",
            "3  1000_309     1000  2018-12-28      5.76\n",
            "4  1000_380     1000  2018-12-30      4.22\n"
          ]
        }
      ],
      "source": [
        "# Imprime una muestra de datos para las llamadas\n",
        "\n",
        "print(\"Muestra de datos para las llamadas:\")\n",
        "print(megaline_calls.head())\n"
      ]
    },
    {
      "cell_type": "markdown",
      "metadata": {
        "id": "DOAxYJSx0q09"
      },
      "source": [
        "Observaciones\n",
        "Tipos de Datos:\n",
        "\n",
        "La columna call_date está en formato object, lo que sugiere que las fechas están almacenadas como cadenas de texto. Para análisis temporales más precisos, sería útil convertir esta columna a formato de fecha (datetime).\n",
        "\n",
        "Valores Nulos:\n",
        "\n",
        "No se observan valores nulos en ninguna de las columnas del DataFrame. Esto es positivo y sugiere que los datos están completos en cuanto a las entradas.\n",
        "\n",
        "Acciones para Corregir y Enriquecer los Datos\n",
        "Convertir Columnas de Fecha:\n",
        "\n",
        "Convertir call_date a formato de fecha (datetime) para facilitar el análisis temporal."
      ]
    },
    {
      "cell_type": "markdown",
      "metadata": {
        "id": "S7hzxmbX0q0-"
      },
      "source": [
        "### Corregir los datos"
      ]
    },
    {
      "cell_type": "code",
      "execution_count": 15,
      "metadata": {
        "colab": {
          "base_uri": "https://localhost:8080/"
        },
        "id": "S2r8xA4f0q0-",
        "outputId": "8416f56f-01aa-44af-8f30-914eb9cffb1b"
      },
      "outputs": [
        {
          "name": "stdout",
          "output_type": "stream",
          "text": [
            "Información general después de la corrección:\n",
            "<class 'pandas.core.frame.DataFrame'>\n",
            "RangeIndex: 137735 entries, 0 to 137734\n",
            "Data columns (total 4 columns):\n",
            " #   Column     Non-Null Count   Dtype         \n",
            "---  ------     --------------   -----         \n",
            " 0   id         137735 non-null  object        \n",
            " 1   user_id    137735 non-null  int64         \n",
            " 2   call_date  137735 non-null  datetime64[ns]\n",
            " 3   duration   137735 non-null  float64       \n",
            "dtypes: datetime64[ns](1), float64(1), int64(1), object(1)\n",
            "memory usage: 4.2+ MB\n",
            "None\n",
            "\n",
            "Muestra de los datos después de la corrección:\n",
            "         id  user_id  call_date  duration\n",
            "0   1000_93     1000 2018-12-27      8.52\n",
            "1  1000_145     1000 2018-12-27     13.66\n",
            "2  1000_247     1000 2018-12-27     14.48\n",
            "3  1000_309     1000 2018-12-28      5.76\n",
            "4  1000_380     1000 2018-12-30      4.22\n"
          ]
        }
      ],
      "source": [
        "# Convertir la columna de fecha a tipo datetime\n",
        "megaline_calls['call_date'] = pd.to_datetime(megaline_calls['call_date'])\n",
        "\n",
        "# Imprimir la información general después de la corrección\n",
        "print(\"Información general después de la corrección:\")\n",
        "print(megaline_calls.info())\n",
        "\n",
        "# Imprimir una muestra de los datos después de la corrección\n",
        "print(\"\\nMuestra de los datos después de la corrección:\")\n",
        "print(megaline_calls.head())\n"
      ]
    },
    {
      "cell_type": "markdown",
      "metadata": {
        "id": "KrMgTrlG0q0_"
      },
      "source": [
        "### Enriquecer los datos"
      ]
    },
    {
      "cell_type": "markdown",
      "metadata": {
        "id": "a9MbmEvE0q0_"
      },
      "source": [
        "Enriquecer los datos\n",
        "Podemos agregar algunos factores adicionales a los datos si creemos que pudieran ser útiles. Por ejemplo:\n",
        "\n",
        "1. Mes de la llamada y día de la semana\n",
        "\n",
        "2. Duración de llamada categorizada: Clasificamos las llamadas en cortas (menos de 5 minutos), medianas (5-10 minutos), y largas (más de 10 minutos)."
      ]
    },
    {
      "cell_type": "markdown",
      "metadata": {},
      "source": [
        "En Pandas, `.dt.dayofweek` es una propiedad del accesor `.dt` que devuelve el día de la semana como un número (donde 0 es lunes y 6 es domingo). Por otro lado, `dow` es simplemente una abreviatura común para “day of week” (día de la semana) y no es un atributo nativo del objeto datetime de Pandas; a veces se utiliza como alias o nombre de columna para almacenar el resultado de `.dt.dayofweek`."
      ]
    },
    {
      "cell_type": "code",
      "execution_count": 16,
      "metadata": {
        "colab": {
          "base_uri": "https://localhost:8080/"
        },
        "id": "iZ1avpA_0q0_",
        "outputId": "d2e8cef8-306b-42bc-c193-b84a2a607100"
      },
      "outputs": [
        {
          "name": "stdout",
          "output_type": "stream",
          "text": [
            "         id  user_id  call_date  duration  month  day_of_week  \\\n",
            "0   1000_93     1000 2018-12-27      8.52     12            3   \n",
            "1  1000_145     1000 2018-12-27     13.66     12            3   \n",
            "2  1000_247     1000 2018-12-27     14.48     12            3   \n",
            "3  1000_309     1000 2018-12-28      5.76     12            4   \n",
            "4  1000_380     1000 2018-12-30      4.22     12            6   \n",
            "\n",
            "  call_duration_category  \n",
            "0                Mediana  \n",
            "1                  Larga  \n",
            "2                  Larga  \n",
            "3                Mediana  \n",
            "4                  Corta  \n"
          ]
        }
      ],
      "source": [
        "# Añadir la columna del mes de la llamada\n",
        "megaline_calls['month'] = megaline_calls['call_date'].dt.month\n",
        "\n",
        "# Añadir la columna del día de la semana de la llamada\n",
        "megaline_calls['day_of_week'] = megaline_calls['call_date'].dt.dayofweek\n",
        "\n",
        "megaline_calls['call_duration_category'] = pd.cut(megaline_calls['duration'],\n",
        "                                           bins=[0, 5, 10, float('inf')], labels=['Corta', 'Mediana', 'Larga'], right=False)\n",
        "\n",
        "# Imprimir la información del DataFrame enriquecido\n",
        "print(megaline_calls.head())"
      ]
    },
    {
      "cell_type": "markdown",
      "metadata": {
        "id": "mOUZSi180q0_"
      },
      "source": [
        "## Mensajes"
      ]
    },
    {
      "cell_type": "code",
      "execution_count": 17,
      "metadata": {
        "colab": {
          "base_uri": "https://localhost:8080/"
        },
        "id": "R-bYJpdV0q1A",
        "outputId": "51104c7a-2222-4d83-e597-013942f659ae"
      },
      "outputs": [
        {
          "name": "stdout",
          "output_type": "stream",
          "text": [
            "Información general sobre el DataFrame de los mensajes:\n",
            "<class 'pandas.core.frame.DataFrame'>\n",
            "RangeIndex: 76051 entries, 0 to 76050\n",
            "Data columns (total 3 columns):\n",
            " #   Column        Non-Null Count  Dtype \n",
            "---  ------        --------------  ----- \n",
            " 0   id            76051 non-null  object\n",
            " 1   user_id       76051 non-null  int64 \n",
            " 2   message_date  76051 non-null  object\n",
            "dtypes: int64(1), object(2)\n",
            "memory usage: 1.7+ MB\n",
            "None\n"
          ]
        }
      ],
      "source": [
        "# Imprime la información general/resumida sobre el DataFrame de los mensajes\n",
        "\n",
        "print(\"Información general sobre el DataFrame de los mensajes:\")\n",
        "print(megaline_messages.info())"
      ]
    },
    {
      "cell_type": "code",
      "execution_count": 18,
      "metadata": {
        "colab": {
          "base_uri": "https://localhost:8080/"
        },
        "id": "mCEl2iGE0q1A",
        "outputId": "6c48a75a-d4ec-47bc-eddb-a26c5619e2f6"
      },
      "outputs": [
        {
          "name": "stdout",
          "output_type": "stream",
          "text": [
            "Muestra de datos para los mensajes:\n",
            "         id  user_id message_date\n",
            "0  1000_125     1000   2018-12-27\n",
            "1  1000_160     1000   2018-12-31\n",
            "2  1000_223     1000   2018-12-31\n",
            "3  1000_251     1000   2018-12-27\n",
            "4  1000_255     1000   2018-12-26\n"
          ]
        }
      ],
      "source": [
        "# Imprime una muestra de datos para los mensajes\n",
        "\n",
        "print(\"Muestra de datos para los mensajes:\")\n",
        "print(megaline_messages.head())"
      ]
    },
    {
      "cell_type": "markdown",
      "metadata": {
        "id": "Sprfak900q1B"
      },
      "source": [
        "### Corregir los datos"
      ]
    },
    {
      "cell_type": "code",
      "execution_count": 19,
      "metadata": {
        "colab": {
          "base_uri": "https://localhost:8080/"
        },
        "id": "vsllvkoa0q1B",
        "outputId": "b2169284-00f4-47ae-f8f2-5e5e51d60f91"
      },
      "outputs": [
        {
          "name": "stdout",
          "output_type": "stream",
          "text": [
            "<class 'pandas.core.frame.DataFrame'>\n",
            "RangeIndex: 76051 entries, 0 to 76050\n",
            "Data columns (total 3 columns):\n",
            " #   Column        Non-Null Count  Dtype         \n",
            "---  ------        --------------  -----         \n",
            " 0   id            76051 non-null  object        \n",
            " 1   user_id       76051 non-null  int64         \n",
            " 2   message_date  76051 non-null  datetime64[ns]\n",
            "dtypes: datetime64[ns](1), int64(1), object(1)\n",
            "memory usage: 1.7+ MB\n",
            "None\n"
          ]
        }
      ],
      "source": [
        "megaline_messages['message_date'] = pd.to_datetime(megaline_messages['message_date'])\n",
        "print(megaline_messages.info())"
      ]
    },
    {
      "cell_type": "markdown",
      "metadata": {
        "id": "HvLid7iD0q1B"
      },
      "source": [
        "### Enriquecer los datos"
      ]
    },
    {
      "cell_type": "markdown",
      "metadata": {},
      "source": [
        "En este código, se utiliza la función count dentro del método .agg({'id': 'count'}) para contar el número de registros en la columna id para cada grupo formado por user_id y message_date. Esto significa que, para cada combinación única de usuario y fecha, se cuenta cuántas entradas (o mensajes) existen en la columna id. Es importante destacar que count únicamente cuenta los valores que no son nulos, por lo que si hay valores nulos en id, estos serán ignorados. Finalmente, se renombra la columna resultante a messages_sent_per_day para indicar claramente que se trata de la cantidad de mensajes enviados por día para cada usuario."
      ]
    },
    {
      "cell_type": "code",
      "execution_count": 20,
      "metadata": {
        "colab": {
          "base_uri": "https://localhost:8080/"
        },
        "id": "zYEXZac10q1C",
        "outputId": "82f71829-5bbd-4fb6-f4e0-0ba3f7a38f74"
      },
      "outputs": [
        {
          "name": "stdout",
          "output_type": "stream",
          "text": [
            "   user_id message_date  messages_sent_per_day\n",
            "0     1000   2018-12-25                      1\n",
            "1     1000   2018-12-26                      1\n",
            "2     1000   2018-12-27                      3\n",
            "3     1000   2018-12-28                      1\n",
            "4     1000   2018-12-29                      1\n",
            "         id  user_id message_date  month  day_of_week\n",
            "0  1000_125     1000   2018-12-27     12            3\n",
            "1  1000_160     1000   2018-12-31     12            0\n",
            "2  1000_223     1000   2018-12-31     12            0\n",
            "3  1000_251     1000   2018-12-27     12            3\n",
            "4  1000_255     1000   2018-12-26     12            2\n"
          ]
        }
      ],
      "source": [
        "# Añadir la columna del mes del mensaje\n",
        "megaline_messages['month'] = megaline_messages['message_date'].dt.month\n",
        "\n",
        "# Añadir la columna del día de la semana del mensaje\n",
        "megaline_messages['day_of_week'] = megaline_messages['message_date'].dt.dayofweek\n",
        "\n",
        "messages_per_day = megaline_messages.groupby(['user_id', 'message_date']).agg({'id': 'count'}).reset_index()\n",
        "messages_per_day.rename(columns={'id': 'messages_sent_per_day'}, inplace=True)\n",
        "print(messages_per_day.head())\n",
        "\n",
        "# Imprimir la información del DataFrame enriquecido\n",
        "print(megaline_messages.head())\n"
      ]
    },
    {
      "cell_type": "markdown",
      "metadata": {
        "id": "bStkaxn40q1C"
      },
      "source": [
        "## Internet"
      ]
    },
    {
      "cell_type": "code",
      "execution_count": 21,
      "metadata": {
        "colab": {
          "base_uri": "https://localhost:8080/"
        },
        "id": "e-Uz5qyn0q1C",
        "outputId": "549d6807-b5e1-4031-db8c-9498f133ffa3"
      },
      "outputs": [
        {
          "name": "stdout",
          "output_type": "stream",
          "text": [
            "Información general sobre el DataFrame de internet:\n",
            "<class 'pandas.core.frame.DataFrame'>\n",
            "RangeIndex: 104825 entries, 0 to 104824\n",
            "Data columns (total 4 columns):\n",
            " #   Column        Non-Null Count   Dtype  \n",
            "---  ------        --------------   -----  \n",
            " 0   id            104825 non-null  object \n",
            " 1   user_id       104825 non-null  int64  \n",
            " 2   session_date  104825 non-null  object \n",
            " 3   mb_used       104825 non-null  float64\n",
            "dtypes: float64(1), int64(1), object(2)\n",
            "memory usage: 3.2+ MB\n",
            "None\n"
          ]
        }
      ],
      "source": [
        "# Imprime la información general/resumida sobre el DataFrame de internet\n",
        "\n",
        "print(\"Información general sobre el DataFrame de internet:\")\n",
        "print(megaline_internet.info())"
      ]
    },
    {
      "cell_type": "code",
      "execution_count": 22,
      "metadata": {
        "colab": {
          "base_uri": "https://localhost:8080/"
        },
        "id": "9r3x_XLw0q1C",
        "outputId": "a9622fcd-b93b-4275-9bbb-2e298e376a21"
      },
      "outputs": [
        {
          "name": "stdout",
          "output_type": "stream",
          "text": [
            "Muestra de datos para el tráfico de internet:\n",
            "         id  user_id session_date  mb_used\n",
            "0   1000_13     1000   2018-12-29    89.86\n",
            "1  1000_204     1000   2018-12-31     0.00\n",
            "2  1000_379     1000   2018-12-28   660.40\n",
            "3  1000_413     1000   2018-12-26   270.99\n",
            "4  1000_442     1000   2018-12-27   880.22\n"
          ]
        }
      ],
      "source": [
        "# Imprime una muestra de datos para el tráfico de internet\n",
        "\n",
        "print(\"Muestra de datos para el tráfico de internet:\")\n",
        "print(megaline_internet.head())"
      ]
    },
    {
      "cell_type": "markdown",
      "metadata": {
        "id": "yA0tkPFg0q1D"
      },
      "source": [
        "### Corregir los datos"
      ]
    },
    {
      "cell_type": "code",
      "execution_count": 23,
      "metadata": {
        "colab": {
          "base_uri": "https://localhost:8080/"
        },
        "id": "zVeanzdd0q1E",
        "outputId": "481f70dd-1410-4367-a3be-fc98c4b85f7c"
      },
      "outputs": [
        {
          "name": "stdout",
          "output_type": "stream",
          "text": [
            "<class 'pandas.core.frame.DataFrame'>\n",
            "RangeIndex: 104825 entries, 0 to 104824\n",
            "Data columns (total 4 columns):\n",
            " #   Column        Non-Null Count   Dtype         \n",
            "---  ------        --------------   -----         \n",
            " 0   id            104825 non-null  object        \n",
            " 1   user_id       104825 non-null  int64         \n",
            " 2   session_date  104825 non-null  datetime64[ns]\n",
            " 3   mb_used       104825 non-null  float64       \n",
            "dtypes: datetime64[ns](1), float64(1), int64(1), object(1)\n",
            "memory usage: 3.2+ MB\n",
            "None\n"
          ]
        }
      ],
      "source": [
        "megaline_internet['session_date'] = pd.to_datetime(megaline_internet['session_date'])\n",
        "\n",
        "print(megaline_internet.info())"
      ]
    },
    {
      "cell_type": "markdown",
      "metadata": {
        "id": "e8_mLF4a0q1E"
      },
      "source": [
        "### Enriquecer los datos"
      ]
    },
    {
      "cell_type": "markdown",
      "metadata": {
        "id": "xhNdn2tE0q1E"
      },
      "source": [
        "Podemos agregar el mes y día de la sesión.\n",
        "\n",
        "Uso de datos por sesión categorizado:\n",
        "Clasificamos las sesiones de internet en ligeras (menos de 200 MB), moderadas (200-500 MB), y pesadas (más de 500 MB)."
      ]
    },
    {
      "cell_type": "markdown",
      "metadata": {},
      "source": [
        "Se utiliza float('inf') para definir el límite superior del último bin, es decir, \"infinito\". De esta forma, cualquier valor de mb_used que sea mayor o igual a 500 se incluirá en la categoría \"Pesada\". Esto asegura que todos los datos por encima de 500, sin importar qué tan altos sean, queden correctamente clasificados en esa categoría\n"
      ]
    },
    {
      "cell_type": "code",
      "execution_count": 24,
      "metadata": {
        "colab": {
          "base_uri": "https://localhost:8080/"
        },
        "id": "ESiYPIEK0q1E",
        "outputId": "6ba5b25a-e967-4ad2-abb2-d0181d679cb4"
      },
      "outputs": [
        {
          "name": "stdout",
          "output_type": "stream",
          "text": [
            "         id  user_id session_date  mb_used  month  day_of_week  \\\n",
            "0   1000_13     1000   2018-12-29    89.86     12            5   \n",
            "1  1000_204     1000   2018-12-31     0.00     12            0   \n",
            "2  1000_379     1000   2018-12-28   660.40     12            4   \n",
            "3  1000_413     1000   2018-12-26   270.99     12            2   \n",
            "4  1000_442     1000   2018-12-27   880.22     12            3   \n",
            "\n",
            "  session_data_category  \n",
            "0                Ligera  \n",
            "1                Ligera  \n",
            "2                Pesada  \n",
            "3              Moderada  \n",
            "4                Pesada  \n"
          ]
        }
      ],
      "source": [
        "# Añadir la columna del mes de la sesión\n",
        "megaline_internet['month'] = megaline_internet['session_date'].dt.month\n",
        "\n",
        "# Añadir la columna del día de la semana de la sesión\n",
        "megaline_internet['day_of_week'] = megaline_internet['session_date'].dt.dayofweek\n",
        "\n",
        "megaline_internet['session_data_category'] = pd.cut(megaline_internet['mb_used'], bins=[0, 200, 500, float('inf')],\n",
        "                                           labels=['Ligera', 'Moderada', 'Pesada'], right=False)\n",
        "\n",
        "# Imprimir la información del DataFrame enriquecido\n",
        "print(megaline_internet.head())"
      ]
    },
    {
      "cell_type": "markdown",
      "metadata": {
        "id": "3UA2cqIW0q1E"
      },
      "source": [
        "## Estudiar las condiciones de las tarifas"
      ]
    },
    {
      "cell_type": "markdown",
      "metadata": {
        "id": "T86Sqltq0q1F"
      },
      "source": [
        "Descripción de las tarifas Surf y Ultimate\n",
        "Tarifa Surf\n",
        "Pago mensual: $20\n",
        "\n",
        "Incluye:\n",
        "\n",
        "500 minutos al mes\n",
        "\n",
        "50 SMS al mes\n",
        "\n",
        "15 GB de datos al mes (15360 MB)\n",
        "\n",
        "Costos adicionales:\n",
        "\n",
        "Minuto extra: $0.03\n",
        "\n",
        "SMS extra: $0.03\n",
        "\n",
        "GB extra: $10 (1 GB = 1024 MB)\n",
        "\n",
        "Tarifa Ultimate\n",
        "Pago mensual: $70\n",
        "\n",
        "Incluye:\n",
        "\n",
        "3000 minutos al mes\n",
        "\n",
        "1000 SMS al mes\n",
        "\n",
        "30 GB de datos al mes (30720 MB)\n",
        "\n",
        "Costos adicionales:\n",
        "\n",
        "Minuto extra: $0.01\n",
        "\n",
        "SMS extra: $0.01\n",
        "\n",
        "GB extra: $7 (1 GB = 1024 MB)\n",
        "\n",
        "Entendiendo las condiciones de las tarifas\n",
        "Tarifa Surf:\n",
        "\n",
        "Los usuarios pagan $20 mensuales.\n",
        "\n",
        "Si un usuario supera los 500 minutos en un mes, paga $0.03 por cada minuto adicional.\n",
        "\n",
        "Si un usuario supera los 50 SMS en un mes, paga $0.03 por cada SMS adicional.\n",
        "\n",
        "Si un usuario supera los 15 GB en un mes, paga $10 por cada GB adicional (redondeado hacia arriba).\n",
        "\n",
        "Tarifa Ultimate:\n",
        "\n",
        "Los usuarios pagan $70 mensuales.\n",
        "\n",
        "Si un usuario supera los 3000 minutos en un mes, paga $0.01 por cada minuto adicional.\n",
        "\n",
        "Si un usuario supera los 1000 SMS en un mes, paga $0.01 por cada SMS adicional.\n",
        "\n",
        "Si un usuario supera los 30 GB en un mes, paga $7 por cada GB adicional (redondeado hacia arriba)."
      ]
    },
    {
      "cell_type": "code",
      "execution_count": 25,
      "metadata": {
        "colab": {
          "base_uri": "https://localhost:8080/"
        },
        "id": "i409op8p0q1F",
        "outputId": "8333f70d-6fba-4f81-c189-e53083bb6ba6"
      },
      "outputs": [
        {
          "name": "stdout",
          "output_type": "stream",
          "text": [
            "Condiciones de la tarifa:\n",
            "   messages_included  mb_per_month_included  minutes_included  \\\n",
            "0                 50                  15360               500   \n",
            "1               1000                  30720              3000   \n",
            "\n",
            "   usd_monthly_pay  usd_per_gb  usd_per_message  usd_per_minute plan_name  \\\n",
            "0               20          10             0.03            0.03      surf   \n",
            "1               70           7             0.01            0.01  ultimate   \n",
            "\n",
            "   monthly_extra_minute_cost  monthly_extra_message_cost  \\\n",
            "0                       15.0                         1.5   \n",
            "1                       30.0                        10.0   \n",
            "\n",
            "   monthly_extra_gb_cost  \n",
            "0                  150.0  \n",
            "1                  210.0  \n"
          ]
        }
      ],
      "source": [
        "# Imprime las condiciones de la tarifa y asegúrate de que te quedan claras\n",
        "\n",
        "print(\"Condiciones de la tarifa:\")\n",
        "print(megaline_plans)"
      ]
    },
    {
      "cell_type": "markdown",
      "metadata": {
        "id": "ubWrpAFwDzrQ"
      },
      "source": [
        "Resumen\n",
        "La tarifa Surf tiene un pago mensual más bajo y límites menores, pero los costos adicionales son más altos comparados con Ultimate. Por otro lado, la tarifa Ultimate tiene un pago mensual más alto y límites más generosos, pero los costos adicionales son menores.\n"
      ]
    },
    {
      "cell_type": "markdown",
      "metadata": {
        "id": "hMR1tP5d0q1F"
      },
      "source": [
        "## Agregar datos por usuario"
      ]
    },
    {
      "cell_type": "code",
      "execution_count": 26,
      "metadata": {},
      "outputs": [
        {
          "data": {
            "text/html": [
              "<div>\n",
              "<style scoped>\n",
              "    .dataframe tbody tr th:only-of-type {\n",
              "        vertical-align: middle;\n",
              "    }\n",
              "\n",
              "    .dataframe tbody tr th {\n",
              "        vertical-align: top;\n",
              "    }\n",
              "\n",
              "    .dataframe thead th {\n",
              "        text-align: right;\n",
              "    }\n",
              "</style>\n",
              "<table border=\"1\" class=\"dataframe\">\n",
              "  <thead>\n",
              "    <tr style=\"text-align: right;\">\n",
              "      <th></th>\n",
              "      <th>id</th>\n",
              "      <th>user_id</th>\n",
              "      <th>call_date</th>\n",
              "      <th>duration</th>\n",
              "      <th>month</th>\n",
              "      <th>day_of_week</th>\n",
              "      <th>call_duration_category</th>\n",
              "    </tr>\n",
              "  </thead>\n",
              "  <tbody>\n",
              "    <tr>\n",
              "      <th>0</th>\n",
              "      <td>1000_93</td>\n",
              "      <td>1000</td>\n",
              "      <td>2018-12-27</td>\n",
              "      <td>8.52</td>\n",
              "      <td>12</td>\n",
              "      <td>3</td>\n",
              "      <td>Mediana</td>\n",
              "    </tr>\n",
              "    <tr>\n",
              "      <th>1</th>\n",
              "      <td>1000_145</td>\n",
              "      <td>1000</td>\n",
              "      <td>2018-12-27</td>\n",
              "      <td>13.66</td>\n",
              "      <td>12</td>\n",
              "      <td>3</td>\n",
              "      <td>Larga</td>\n",
              "    </tr>\n",
              "    <tr>\n",
              "      <th>2</th>\n",
              "      <td>1000_247</td>\n",
              "      <td>1000</td>\n",
              "      <td>2018-12-27</td>\n",
              "      <td>14.48</td>\n",
              "      <td>12</td>\n",
              "      <td>3</td>\n",
              "      <td>Larga</td>\n",
              "    </tr>\n",
              "    <tr>\n",
              "      <th>3</th>\n",
              "      <td>1000_309</td>\n",
              "      <td>1000</td>\n",
              "      <td>2018-12-28</td>\n",
              "      <td>5.76</td>\n",
              "      <td>12</td>\n",
              "      <td>4</td>\n",
              "      <td>Mediana</td>\n",
              "    </tr>\n",
              "    <tr>\n",
              "      <th>4</th>\n",
              "      <td>1000_380</td>\n",
              "      <td>1000</td>\n",
              "      <td>2018-12-30</td>\n",
              "      <td>4.22</td>\n",
              "      <td>12</td>\n",
              "      <td>6</td>\n",
              "      <td>Corta</td>\n",
              "    </tr>\n",
              "    <tr>\n",
              "      <th>5</th>\n",
              "      <td>1000_388</td>\n",
              "      <td>1000</td>\n",
              "      <td>2018-12-31</td>\n",
              "      <td>2.20</td>\n",
              "      <td>12</td>\n",
              "      <td>0</td>\n",
              "      <td>Corta</td>\n",
              "    </tr>\n",
              "    <tr>\n",
              "      <th>6</th>\n",
              "      <td>1000_510</td>\n",
              "      <td>1000</td>\n",
              "      <td>2018-12-27</td>\n",
              "      <td>5.75</td>\n",
              "      <td>12</td>\n",
              "      <td>3</td>\n",
              "      <td>Mediana</td>\n",
              "    </tr>\n",
              "    <tr>\n",
              "      <th>7</th>\n",
              "      <td>1000_521</td>\n",
              "      <td>1000</td>\n",
              "      <td>2018-12-28</td>\n",
              "      <td>14.18</td>\n",
              "      <td>12</td>\n",
              "      <td>4</td>\n",
              "      <td>Larga</td>\n",
              "    </tr>\n",
              "    <tr>\n",
              "      <th>8</th>\n",
              "      <td>1000_530</td>\n",
              "      <td>1000</td>\n",
              "      <td>2018-12-28</td>\n",
              "      <td>5.77</td>\n",
              "      <td>12</td>\n",
              "      <td>4</td>\n",
              "      <td>Mediana</td>\n",
              "    </tr>\n",
              "    <tr>\n",
              "      <th>9</th>\n",
              "      <td>1000_544</td>\n",
              "      <td>1000</td>\n",
              "      <td>2018-12-26</td>\n",
              "      <td>4.40</td>\n",
              "      <td>12</td>\n",
              "      <td>2</td>\n",
              "      <td>Corta</td>\n",
              "    </tr>\n",
              "  </tbody>\n",
              "</table>\n",
              "</div>"
            ],
            "text/plain": [
              "         id  user_id  call_date  duration  month  day_of_week  \\\n",
              "0   1000_93     1000 2018-12-27      8.52     12            3   \n",
              "1  1000_145     1000 2018-12-27     13.66     12            3   \n",
              "2  1000_247     1000 2018-12-27     14.48     12            3   \n",
              "3  1000_309     1000 2018-12-28      5.76     12            4   \n",
              "4  1000_380     1000 2018-12-30      4.22     12            6   \n",
              "5  1000_388     1000 2018-12-31      2.20     12            0   \n",
              "6  1000_510     1000 2018-12-27      5.75     12            3   \n",
              "7  1000_521     1000 2018-12-28     14.18     12            4   \n",
              "8  1000_530     1000 2018-12-28      5.77     12            4   \n",
              "9  1000_544     1000 2018-12-26      4.40     12            2   \n",
              "\n",
              "  call_duration_category  \n",
              "0                Mediana  \n",
              "1                  Larga  \n",
              "2                  Larga  \n",
              "3                Mediana  \n",
              "4                  Corta  \n",
              "5                  Corta  \n",
              "6                Mediana  \n",
              "7                  Larga  \n",
              "8                Mediana  \n",
              "9                  Corta  "
            ]
          },
          "metadata": {},
          "output_type": "display_data"
        }
      ],
      "source": [
        "display(megaline_calls.head(10))"
      ]
    },
    {
      "cell_type": "code",
      "execution_count": null,
      "metadata": {
        "colab": {
          "base_uri": "https://localhost:8080/"
        },
        "id": "A332cedB0q1G",
        "outputId": "310b897e-4d0e-432e-f5c8-99341f2aa31d"
      },
      "outputs": [
        {
          "name": "stdout",
          "output_type": "stream",
          "text": [
            "   user_id  month  calls_made\n",
            "0     1000     12          16\n",
            "1     1001      8          27\n",
            "2     1001      9          49\n",
            "3     1001     10          65\n",
            "4     1001     11          64\n"
          ]
        }
      ],
      "source": [
        "# Calcula el número de llamadas hechas por cada usuario al mes. \n",
        "\n",
        "megaline_calls['month'] = megaline_calls['call_date'].dt.month\n",
        "calls_per_month = megaline_calls.groupby(['user_id', 'month']).agg({'id': 'count'}).reset_index()\n",
        "calls_per_month.rename(columns={'id': 'calls_made'}, inplace=True)\n",
        "\n",
        "print(calls_per_month.head())\n"
      ]
    },
    {
      "cell_type": "code",
      "execution_count": null,
      "metadata": {
        "colab": {
          "base_uri": "https://localhost:8080/"
        },
        "id": "aw2cmuql0q1G",
        "outputId": "ebeefde2-eca4-449c-d0a1-effeb687c570"
      },
      "outputs": [
        {
          "name": "stdout",
          "output_type": "stream",
          "text": [
            "   user_id  month  minutes_used\n",
            "0     1000     12        116.83\n",
            "1     1001      8        171.14\n",
            "2     1001      9        297.69\n",
            "3     1001     10        374.11\n",
            "4     1001     11        404.59\n"
          ]
        }
      ],
      "source": [
        "# Calcula la cantidad de minutos usados por cada usuario al mes.\n",
        "\n",
        "minutes_per_month = megaline_calls.groupby(['user_id', 'month']).agg({'duration': 'sum'}).reset_index()\n",
        "minutes_per_month.rename(columns={'duration': 'minutes_used'}, inplace=True)\n",
        "\n",
        "print(minutes_per_month.head())\n"
      ]
    },
    {
      "cell_type": "code",
      "execution_count": 45,
      "metadata": {},
      "outputs": [
        {
          "data": {
            "text/html": [
              "<div>\n",
              "<style scoped>\n",
              "    .dataframe tbody tr th:only-of-type {\n",
              "        vertical-align: middle;\n",
              "    }\n",
              "\n",
              "    .dataframe tbody tr th {\n",
              "        vertical-align: top;\n",
              "    }\n",
              "\n",
              "    .dataframe thead th {\n",
              "        text-align: right;\n",
              "    }\n",
              "</style>\n",
              "<table border=\"1\" class=\"dataframe\">\n",
              "  <thead>\n",
              "    <tr style=\"text-align: right;\">\n",
              "      <th></th>\n",
              "      <th>id</th>\n",
              "      <th>user_id</th>\n",
              "      <th>message_date</th>\n",
              "      <th>month</th>\n",
              "      <th>day_of_week</th>\n",
              "    </tr>\n",
              "  </thead>\n",
              "  <tbody>\n",
              "    <tr>\n",
              "      <th>0</th>\n",
              "      <td>1000_125</td>\n",
              "      <td>1000</td>\n",
              "      <td>2018-12-27</td>\n",
              "      <td>12</td>\n",
              "      <td>3</td>\n",
              "    </tr>\n",
              "    <tr>\n",
              "      <th>1</th>\n",
              "      <td>1000_160</td>\n",
              "      <td>1000</td>\n",
              "      <td>2018-12-31</td>\n",
              "      <td>12</td>\n",
              "      <td>0</td>\n",
              "    </tr>\n",
              "    <tr>\n",
              "      <th>2</th>\n",
              "      <td>1000_223</td>\n",
              "      <td>1000</td>\n",
              "      <td>2018-12-31</td>\n",
              "      <td>12</td>\n",
              "      <td>0</td>\n",
              "    </tr>\n",
              "    <tr>\n",
              "      <th>3</th>\n",
              "      <td>1000_251</td>\n",
              "      <td>1000</td>\n",
              "      <td>2018-12-27</td>\n",
              "      <td>12</td>\n",
              "      <td>3</td>\n",
              "    </tr>\n",
              "    <tr>\n",
              "      <th>4</th>\n",
              "      <td>1000_255</td>\n",
              "      <td>1000</td>\n",
              "      <td>2018-12-26</td>\n",
              "      <td>12</td>\n",
              "      <td>2</td>\n",
              "    </tr>\n",
              "    <tr>\n",
              "      <th>5</th>\n",
              "      <td>1000_346</td>\n",
              "      <td>1000</td>\n",
              "      <td>2018-12-29</td>\n",
              "      <td>12</td>\n",
              "      <td>5</td>\n",
              "    </tr>\n",
              "    <tr>\n",
              "      <th>6</th>\n",
              "      <td>1000_386</td>\n",
              "      <td>1000</td>\n",
              "      <td>2018-12-30</td>\n",
              "      <td>12</td>\n",
              "      <td>6</td>\n",
              "    </tr>\n",
              "    <tr>\n",
              "      <th>7</th>\n",
              "      <td>1000_413</td>\n",
              "      <td>1000</td>\n",
              "      <td>2018-12-31</td>\n",
              "      <td>12</td>\n",
              "      <td>0</td>\n",
              "    </tr>\n",
              "    <tr>\n",
              "      <th>8</th>\n",
              "      <td>1000_502</td>\n",
              "      <td>1000</td>\n",
              "      <td>2018-12-27</td>\n",
              "      <td>12</td>\n",
              "      <td>3</td>\n",
              "    </tr>\n",
              "    <tr>\n",
              "      <th>9</th>\n",
              "      <td>1000_525</td>\n",
              "      <td>1000</td>\n",
              "      <td>2018-12-28</td>\n",
              "      <td>12</td>\n",
              "      <td>4</td>\n",
              "    </tr>\n",
              "  </tbody>\n",
              "</table>\n",
              "</div>"
            ],
            "text/plain": [
              "         id  user_id message_date  month  day_of_week\n",
              "0  1000_125     1000   2018-12-27     12            3\n",
              "1  1000_160     1000   2018-12-31     12            0\n",
              "2  1000_223     1000   2018-12-31     12            0\n",
              "3  1000_251     1000   2018-12-27     12            3\n",
              "4  1000_255     1000   2018-12-26     12            2\n",
              "5  1000_346     1000   2018-12-29     12            5\n",
              "6  1000_386     1000   2018-12-30     12            6\n",
              "7  1000_413     1000   2018-12-31     12            0\n",
              "8  1000_502     1000   2018-12-27     12            3\n",
              "9  1000_525     1000   2018-12-28     12            4"
            ]
          },
          "metadata": {},
          "output_type": "display_data"
        }
      ],
      "source": [
        "display(megaline_messages.head(10))"
      ]
    },
    {
      "cell_type": "code",
      "execution_count": null,
      "metadata": {
        "colab": {
          "base_uri": "https://localhost:8080/"
        },
        "id": "CcQvNHn60q1G",
        "outputId": "212642fa-0228-40cc-cc20-9ef306d4eb57"
      },
      "outputs": [
        {
          "name": "stdout",
          "output_type": "stream",
          "text": [
            "   user_id  month  messages_sent\n",
            "0     1000     12             11\n",
            "1     1001      8             30\n",
            "2     1001      9             44\n",
            "3     1001     10             53\n",
            "4     1001     11             36\n"
          ]
        }
      ],
      "source": [
        "# Calcula el número de mensajes enviados por cada usuario al mes.\n",
        "\n",
        "megaline_messages['month'] = megaline_messages['message_date'].dt.month\n",
        "messages_per_month = megaline_messages.groupby(['user_id', 'month']).agg({'id': 'count'}).reset_index()\n",
        "messages_per_month.rename(columns={'id': 'messages_sent'}, inplace=True)\n",
        "\n",
        "print(messages_per_month.head())"
      ]
    },
    {
      "cell_type": "code",
      "execution_count": 46,
      "metadata": {},
      "outputs": [
        {
          "data": {
            "text/html": [
              "<div>\n",
              "<style scoped>\n",
              "    .dataframe tbody tr th:only-of-type {\n",
              "        vertical-align: middle;\n",
              "    }\n",
              "\n",
              "    .dataframe tbody tr th {\n",
              "        vertical-align: top;\n",
              "    }\n",
              "\n",
              "    .dataframe thead th {\n",
              "        text-align: right;\n",
              "    }\n",
              "</style>\n",
              "<table border=\"1\" class=\"dataframe\">\n",
              "  <thead>\n",
              "    <tr style=\"text-align: right;\">\n",
              "      <th></th>\n",
              "      <th>id</th>\n",
              "      <th>user_id</th>\n",
              "      <th>session_date</th>\n",
              "      <th>mb_used</th>\n",
              "      <th>month</th>\n",
              "      <th>day_of_week</th>\n",
              "      <th>session_data_category</th>\n",
              "    </tr>\n",
              "  </thead>\n",
              "  <tbody>\n",
              "    <tr>\n",
              "      <th>0</th>\n",
              "      <td>1000_13</td>\n",
              "      <td>1000</td>\n",
              "      <td>2018-12-29</td>\n",
              "      <td>89.86</td>\n",
              "      <td>12</td>\n",
              "      <td>5</td>\n",
              "      <td>Ligera</td>\n",
              "    </tr>\n",
              "    <tr>\n",
              "      <th>1</th>\n",
              "      <td>1000_204</td>\n",
              "      <td>1000</td>\n",
              "      <td>2018-12-31</td>\n",
              "      <td>0.00</td>\n",
              "      <td>12</td>\n",
              "      <td>0</td>\n",
              "      <td>Ligera</td>\n",
              "    </tr>\n",
              "    <tr>\n",
              "      <th>2</th>\n",
              "      <td>1000_379</td>\n",
              "      <td>1000</td>\n",
              "      <td>2018-12-28</td>\n",
              "      <td>660.40</td>\n",
              "      <td>12</td>\n",
              "      <td>4</td>\n",
              "      <td>Pesada</td>\n",
              "    </tr>\n",
              "    <tr>\n",
              "      <th>3</th>\n",
              "      <td>1000_413</td>\n",
              "      <td>1000</td>\n",
              "      <td>2018-12-26</td>\n",
              "      <td>270.99</td>\n",
              "      <td>12</td>\n",
              "      <td>2</td>\n",
              "      <td>Moderada</td>\n",
              "    </tr>\n",
              "    <tr>\n",
              "      <th>4</th>\n",
              "      <td>1000_442</td>\n",
              "      <td>1000</td>\n",
              "      <td>2018-12-27</td>\n",
              "      <td>880.22</td>\n",
              "      <td>12</td>\n",
              "      <td>3</td>\n",
              "      <td>Pesada</td>\n",
              "    </tr>\n",
              "    <tr>\n",
              "      <th>5</th>\n",
              "      <td>1001_0</td>\n",
              "      <td>1001</td>\n",
              "      <td>2018-08-24</td>\n",
              "      <td>284.68</td>\n",
              "      <td>8</td>\n",
              "      <td>4</td>\n",
              "      <td>Moderada</td>\n",
              "    </tr>\n",
              "    <tr>\n",
              "      <th>6</th>\n",
              "      <td>1001_3</td>\n",
              "      <td>1001</td>\n",
              "      <td>2018-12-09</td>\n",
              "      <td>656.04</td>\n",
              "      <td>12</td>\n",
              "      <td>6</td>\n",
              "      <td>Pesada</td>\n",
              "    </tr>\n",
              "    <tr>\n",
              "      <th>7</th>\n",
              "      <td>1001_4</td>\n",
              "      <td>1001</td>\n",
              "      <td>2018-11-04</td>\n",
              "      <td>16.97</td>\n",
              "      <td>11</td>\n",
              "      <td>6</td>\n",
              "      <td>Ligera</td>\n",
              "    </tr>\n",
              "    <tr>\n",
              "      <th>8</th>\n",
              "      <td>1001_10</td>\n",
              "      <td>1001</td>\n",
              "      <td>2018-11-27</td>\n",
              "      <td>135.18</td>\n",
              "      <td>11</td>\n",
              "      <td>1</td>\n",
              "      <td>Ligera</td>\n",
              "    </tr>\n",
              "    <tr>\n",
              "      <th>9</th>\n",
              "      <td>1001_15</td>\n",
              "      <td>1001</td>\n",
              "      <td>2018-12-13</td>\n",
              "      <td>761.92</td>\n",
              "      <td>12</td>\n",
              "      <td>3</td>\n",
              "      <td>Pesada</td>\n",
              "    </tr>\n",
              "  </tbody>\n",
              "</table>\n",
              "</div>"
            ],
            "text/plain": [
              "         id  user_id session_date  mb_used  month  day_of_week  \\\n",
              "0   1000_13     1000   2018-12-29    89.86     12            5   \n",
              "1  1000_204     1000   2018-12-31     0.00     12            0   \n",
              "2  1000_379     1000   2018-12-28   660.40     12            4   \n",
              "3  1000_413     1000   2018-12-26   270.99     12            2   \n",
              "4  1000_442     1000   2018-12-27   880.22     12            3   \n",
              "5    1001_0     1001   2018-08-24   284.68      8            4   \n",
              "6    1001_3     1001   2018-12-09   656.04     12            6   \n",
              "7    1001_4     1001   2018-11-04    16.97     11            6   \n",
              "8   1001_10     1001   2018-11-27   135.18     11            1   \n",
              "9   1001_15     1001   2018-12-13   761.92     12            3   \n",
              "\n",
              "  session_data_category  \n",
              "0                Ligera  \n",
              "1                Ligera  \n",
              "2                Pesada  \n",
              "3              Moderada  \n",
              "4                Pesada  \n",
              "5              Moderada  \n",
              "6                Pesada  \n",
              "7                Ligera  \n",
              "8                Ligera  \n",
              "9                Pesada  "
            ]
          },
          "metadata": {},
          "output_type": "display_data"
        }
      ],
      "source": [
        "display(megaline_internet.head(10))"
      ]
    },
    {
      "cell_type": "code",
      "execution_count": null,
      "metadata": {
        "colab": {
          "base_uri": "https://localhost:8080/"
        },
        "id": "H1AqN2eG0q1H",
        "outputId": "0cbf4b38-becf-449d-c5c7-8698c1fadcbd"
      },
      "outputs": [
        {
          "name": "stdout",
          "output_type": "stream",
          "text": [
            "   user_id  month  mb_used_per_month\n",
            "0     1000     12            1901.47\n",
            "1     1001      8            6919.15\n",
            "2     1001      9           13314.82\n",
            "3     1001     10           22330.49\n",
            "4     1001     11           18504.30\n"
          ]
        }
      ],
      "source": [
        "# Calcula el volumen del tráfico de Internet usado por cada usuario al mes. \n",
        "\n",
        "megaline_internet['month'] = megaline_internet['session_date'].dt.month\n",
        "internet_per_month = megaline_internet.groupby(['user_id', 'month']).agg({'mb_used': 'sum'}).reset_index()\n",
        "internet_per_month.rename(columns={'mb_used': 'mb_used_per_month'}, inplace=True)\n",
        "\n",
        "print(internet_per_month.head())"
      ]
    },
    {
      "cell_type": "code",
      "execution_count": 47,
      "metadata": {},
      "outputs": [
        {
          "data": {
            "text/html": [
              "<div>\n",
              "<style scoped>\n",
              "    .dataframe tbody tr th:only-of-type {\n",
              "        vertical-align: middle;\n",
              "    }\n",
              "\n",
              "    .dataframe tbody tr th {\n",
              "        vertical-align: top;\n",
              "    }\n",
              "\n",
              "    .dataframe thead th {\n",
              "        text-align: right;\n",
              "    }\n",
              "</style>\n",
              "<table border=\"1\" class=\"dataframe\">\n",
              "  <thead>\n",
              "    <tr style=\"text-align: right;\">\n",
              "      <th></th>\n",
              "      <th>user_id</th>\n",
              "      <th>first_name</th>\n",
              "      <th>last_name</th>\n",
              "      <th>age</th>\n",
              "      <th>city</th>\n",
              "      <th>reg_date</th>\n",
              "      <th>plan</th>\n",
              "      <th>churn_date</th>\n",
              "      <th>subscription_duration_days</th>\n",
              "      <th>age_group</th>\n",
              "    </tr>\n",
              "  </thead>\n",
              "  <tbody>\n",
              "    <tr>\n",
              "      <th>0</th>\n",
              "      <td>1000</td>\n",
              "      <td>Anamaria</td>\n",
              "      <td>Bauer</td>\n",
              "      <td>45</td>\n",
              "      <td>Atlanta-Sandy Springs-Roswell, GA MSA</td>\n",
              "      <td>2018-12-24</td>\n",
              "      <td>ultimate</td>\n",
              "      <td>NaT</td>\n",
              "      <td>7</td>\n",
              "      <td>Adultos (36-50)</td>\n",
              "    </tr>\n",
              "    <tr>\n",
              "      <th>1</th>\n",
              "      <td>1001</td>\n",
              "      <td>Mickey</td>\n",
              "      <td>Wilkerson</td>\n",
              "      <td>28</td>\n",
              "      <td>Seattle-Tacoma-Bellevue, WA MSA</td>\n",
              "      <td>2018-08-13</td>\n",
              "      <td>surf</td>\n",
              "      <td>NaT</td>\n",
              "      <td>140</td>\n",
              "      <td>Adultos jóvenes (26-35)</td>\n",
              "    </tr>\n",
              "    <tr>\n",
              "      <th>2</th>\n",
              "      <td>1002</td>\n",
              "      <td>Carlee</td>\n",
              "      <td>Hoffman</td>\n",
              "      <td>36</td>\n",
              "      <td>Las Vegas-Henderson-Paradise, NV MSA</td>\n",
              "      <td>2018-10-21</td>\n",
              "      <td>surf</td>\n",
              "      <td>NaT</td>\n",
              "      <td>71</td>\n",
              "      <td>Adultos (36-50)</td>\n",
              "    </tr>\n",
              "    <tr>\n",
              "      <th>3</th>\n",
              "      <td>1003</td>\n",
              "      <td>Reynaldo</td>\n",
              "      <td>Jenkins</td>\n",
              "      <td>52</td>\n",
              "      <td>Tulsa, OK MSA</td>\n",
              "      <td>2018-01-28</td>\n",
              "      <td>surf</td>\n",
              "      <td>NaT</td>\n",
              "      <td>337</td>\n",
              "      <td>Mayores (51+)</td>\n",
              "    </tr>\n",
              "    <tr>\n",
              "      <th>4</th>\n",
              "      <td>1004</td>\n",
              "      <td>Leonila</td>\n",
              "      <td>Thompson</td>\n",
              "      <td>40</td>\n",
              "      <td>Seattle-Tacoma-Bellevue, WA MSA</td>\n",
              "      <td>2018-05-23</td>\n",
              "      <td>surf</td>\n",
              "      <td>NaT</td>\n",
              "      <td>222</td>\n",
              "      <td>Adultos (36-50)</td>\n",
              "    </tr>\n",
              "    <tr>\n",
              "      <th>5</th>\n",
              "      <td>1005</td>\n",
              "      <td>Livia</td>\n",
              "      <td>Shields</td>\n",
              "      <td>31</td>\n",
              "      <td>Dallas-Fort Worth-Arlington, TX MSA</td>\n",
              "      <td>2018-11-29</td>\n",
              "      <td>surf</td>\n",
              "      <td>NaT</td>\n",
              "      <td>32</td>\n",
              "      <td>Adultos jóvenes (26-35)</td>\n",
              "    </tr>\n",
              "    <tr>\n",
              "      <th>6</th>\n",
              "      <td>1006</td>\n",
              "      <td>Jesusa</td>\n",
              "      <td>Bradford</td>\n",
              "      <td>73</td>\n",
              "      <td>San Francisco-Oakland-Berkeley, CA MSA</td>\n",
              "      <td>2018-11-27</td>\n",
              "      <td>ultimate</td>\n",
              "      <td>2018-12-18</td>\n",
              "      <td>21</td>\n",
              "      <td>Mayores (51+)</td>\n",
              "    </tr>\n",
              "    <tr>\n",
              "      <th>7</th>\n",
              "      <td>1007</td>\n",
              "      <td>Eusebio</td>\n",
              "      <td>Welch</td>\n",
              "      <td>42</td>\n",
              "      <td>Grand Rapids-Kentwood, MI MSA</td>\n",
              "      <td>2018-07-11</td>\n",
              "      <td>surf</td>\n",
              "      <td>NaT</td>\n",
              "      <td>173</td>\n",
              "      <td>Adultos (36-50)</td>\n",
              "    </tr>\n",
              "    <tr>\n",
              "      <th>8</th>\n",
              "      <td>1008</td>\n",
              "      <td>Emely</td>\n",
              "      <td>Hoffman</td>\n",
              "      <td>53</td>\n",
              "      <td>Orlando-Kissimmee-Sanford, FL MSA</td>\n",
              "      <td>2018-08-03</td>\n",
              "      <td>ultimate</td>\n",
              "      <td>NaT</td>\n",
              "      <td>150</td>\n",
              "      <td>Mayores (51+)</td>\n",
              "    </tr>\n",
              "    <tr>\n",
              "      <th>9</th>\n",
              "      <td>1009</td>\n",
              "      <td>Gerry</td>\n",
              "      <td>Little</td>\n",
              "      <td>19</td>\n",
              "      <td>San Jose-Sunnyvale-Santa Clara, CA MSA</td>\n",
              "      <td>2018-04-22</td>\n",
              "      <td>surf</td>\n",
              "      <td>NaT</td>\n",
              "      <td>253</td>\n",
              "      <td>Jóvenes (18-25)</td>\n",
              "    </tr>\n",
              "  </tbody>\n",
              "</table>\n",
              "</div>"
            ],
            "text/plain": [
              "   user_id first_name  last_name  age                                    city  \\\n",
              "0     1000   Anamaria      Bauer   45   Atlanta-Sandy Springs-Roswell, GA MSA   \n",
              "1     1001     Mickey  Wilkerson   28         Seattle-Tacoma-Bellevue, WA MSA   \n",
              "2     1002     Carlee    Hoffman   36    Las Vegas-Henderson-Paradise, NV MSA   \n",
              "3     1003   Reynaldo    Jenkins   52                           Tulsa, OK MSA   \n",
              "4     1004    Leonila   Thompson   40         Seattle-Tacoma-Bellevue, WA MSA   \n",
              "5     1005      Livia    Shields   31     Dallas-Fort Worth-Arlington, TX MSA   \n",
              "6     1006     Jesusa   Bradford   73  San Francisco-Oakland-Berkeley, CA MSA   \n",
              "7     1007    Eusebio      Welch   42           Grand Rapids-Kentwood, MI MSA   \n",
              "8     1008      Emely    Hoffman   53       Orlando-Kissimmee-Sanford, FL MSA   \n",
              "9     1009      Gerry     Little   19  San Jose-Sunnyvale-Santa Clara, CA MSA   \n",
              "\n",
              "    reg_date      plan churn_date  subscription_duration_days  \\\n",
              "0 2018-12-24  ultimate        NaT                           7   \n",
              "1 2018-08-13      surf        NaT                         140   \n",
              "2 2018-10-21      surf        NaT                          71   \n",
              "3 2018-01-28      surf        NaT                         337   \n",
              "4 2018-05-23      surf        NaT                         222   \n",
              "5 2018-11-29      surf        NaT                          32   \n",
              "6 2018-11-27  ultimate 2018-12-18                          21   \n",
              "7 2018-07-11      surf        NaT                         173   \n",
              "8 2018-08-03  ultimate        NaT                         150   \n",
              "9 2018-04-22      surf        NaT                         253   \n",
              "\n",
              "                 age_group  \n",
              "0          Adultos (36-50)  \n",
              "1  Adultos jóvenes (26-35)  \n",
              "2          Adultos (36-50)  \n",
              "3            Mayores (51+)  \n",
              "4          Adultos (36-50)  \n",
              "5  Adultos jóvenes (26-35)  \n",
              "6            Mayores (51+)  \n",
              "7          Adultos (36-50)  \n",
              "8            Mayores (51+)  \n",
              "9          Jóvenes (18-25)  "
            ]
          },
          "metadata": {},
          "output_type": "display_data"
        }
      ],
      "source": [
        "display(megaline_users.head(10))"
      ]
    },
    {
      "cell_type": "code",
      "execution_count": 31,
      "metadata": {
        "colab": {
          "base_uri": "https://localhost:8080/"
        },
        "id": "FW99ykyf0q1H",
        "outputId": "e8e4a0a8-42fe-4545-c971-535ee54ae5c1"
      },
      "outputs": [
        {
          "name": "stdout",
          "output_type": "stream",
          "text": [
            "   user_id      plan  month  calls_made  minutes_used  messages_sent  \\\n",
            "0     1000  ultimate   12.0        16.0        116.83           11.0   \n",
            "1     1001      surf    8.0        27.0        171.14           30.0   \n",
            "2     1001      surf    9.0        49.0        297.69           44.0   \n",
            "3     1001      surf   10.0        65.0        374.11           53.0   \n",
            "4     1001      surf   11.0        64.0        404.59           36.0   \n",
            "\n",
            "   mb_used_per_month  \n",
            "0            1901.47  \n",
            "1            6919.15  \n",
            "2           13314.82  \n",
            "3           22330.49  \n",
            "4           18504.30  \n"
          ]
        }
      ],
      "source": [
        "# Fusiona los datos de llamadas, minutos, mensajes e Internet con base en user_id y month\n",
        "\n",
        "user_data = megaline_users[['user_id', 'plan']]\n",
        "\n",
        "# Combinar datos de llamadas, minutos, mensajes e internet\n",
        "user_data = user_data.merge(calls_per_month, on='user_id', how='left')\n",
        "user_data = user_data.merge(minutes_per_month, on=['user_id', 'month'], how='left')\n",
        "user_data = user_data.merge(messages_per_month, on=['user_id', 'month'], how='left')\n",
        "user_data = user_data.merge(internet_per_month, on=['user_id', 'month'], how='left')\n",
        "\n",
        "print(user_data.head())"
      ]
    },
    {
      "cell_type": "code",
      "execution_count": 50,
      "metadata": {},
      "outputs": [
        {
          "data": {
            "text/html": [
              "<div>\n",
              "<style scoped>\n",
              "    .dataframe tbody tr th:only-of-type {\n",
              "        vertical-align: middle;\n",
              "    }\n",
              "\n",
              "    .dataframe tbody tr th {\n",
              "        vertical-align: top;\n",
              "    }\n",
              "\n",
              "    .dataframe thead th {\n",
              "        text-align: right;\n",
              "    }\n",
              "</style>\n",
              "<table border=\"1\" class=\"dataframe\">\n",
              "  <thead>\n",
              "    <tr style=\"text-align: right;\">\n",
              "      <th></th>\n",
              "      <th>user_id</th>\n",
              "      <th>plan</th>\n",
              "      <th>month</th>\n",
              "      <th>calls_made</th>\n",
              "      <th>minutes_used</th>\n",
              "      <th>messages_sent</th>\n",
              "      <th>mb_used_per_month</th>\n",
              "      <th>messages_included</th>\n",
              "      <th>mb_per_month_included</th>\n",
              "      <th>minutes_included</th>\n",
              "      <th>...</th>\n",
              "      <th>monthly_extra_minute_cost</th>\n",
              "      <th>monthly_extra_message_cost</th>\n",
              "      <th>monthly_extra_gb_cost</th>\n",
              "      <th>extra_minutes</th>\n",
              "      <th>extra_messages</th>\n",
              "      <th>extra_gb</th>\n",
              "      <th>extra_minutes_cost</th>\n",
              "      <th>extra_messages_cost</th>\n",
              "      <th>extra_gb_cost</th>\n",
              "      <th>monthly_revenue</th>\n",
              "    </tr>\n",
              "  </thead>\n",
              "  <tbody>\n",
              "    <tr>\n",
              "      <th>0</th>\n",
              "      <td>1000</td>\n",
              "      <td>ultimate</td>\n",
              "      <td>12.0</td>\n",
              "      <td>16.0</td>\n",
              "      <td>116.83</td>\n",
              "      <td>11.0</td>\n",
              "      <td>1901.47</td>\n",
              "      <td>1000</td>\n",
              "      <td>30720</td>\n",
              "      <td>3000</td>\n",
              "      <td>...</td>\n",
              "      <td>30.0</td>\n",
              "      <td>10.0</td>\n",
              "      <td>210.0</td>\n",
              "      <td>0.0</td>\n",
              "      <td>0.0</td>\n",
              "      <td>0.000000</td>\n",
              "      <td>0.00</td>\n",
              "      <td>0.00</td>\n",
              "      <td>0.000000</td>\n",
              "      <td>70.00</td>\n",
              "    </tr>\n",
              "    <tr>\n",
              "      <th>1</th>\n",
              "      <td>1001</td>\n",
              "      <td>surf</td>\n",
              "      <td>8.0</td>\n",
              "      <td>27.0</td>\n",
              "      <td>171.14</td>\n",
              "      <td>30.0</td>\n",
              "      <td>6919.15</td>\n",
              "      <td>50</td>\n",
              "      <td>15360</td>\n",
              "      <td>500</td>\n",
              "      <td>...</td>\n",
              "      <td>15.0</td>\n",
              "      <td>1.5</td>\n",
              "      <td>150.0</td>\n",
              "      <td>0.0</td>\n",
              "      <td>0.0</td>\n",
              "      <td>0.000000</td>\n",
              "      <td>0.00</td>\n",
              "      <td>0.00</td>\n",
              "      <td>0.000000</td>\n",
              "      <td>20.00</td>\n",
              "    </tr>\n",
              "    <tr>\n",
              "      <th>2</th>\n",
              "      <td>1001</td>\n",
              "      <td>surf</td>\n",
              "      <td>9.0</td>\n",
              "      <td>49.0</td>\n",
              "      <td>297.69</td>\n",
              "      <td>44.0</td>\n",
              "      <td>13314.82</td>\n",
              "      <td>50</td>\n",
              "      <td>15360</td>\n",
              "      <td>500</td>\n",
              "      <td>...</td>\n",
              "      <td>15.0</td>\n",
              "      <td>1.5</td>\n",
              "      <td>150.0</td>\n",
              "      <td>0.0</td>\n",
              "      <td>0.0</td>\n",
              "      <td>0.000000</td>\n",
              "      <td>0.00</td>\n",
              "      <td>0.00</td>\n",
              "      <td>0.000000</td>\n",
              "      <td>20.00</td>\n",
              "    </tr>\n",
              "    <tr>\n",
              "      <th>3</th>\n",
              "      <td>1001</td>\n",
              "      <td>surf</td>\n",
              "      <td>10.0</td>\n",
              "      <td>65.0</td>\n",
              "      <td>374.11</td>\n",
              "      <td>53.0</td>\n",
              "      <td>22330.49</td>\n",
              "      <td>50</td>\n",
              "      <td>15360</td>\n",
              "      <td>500</td>\n",
              "      <td>...</td>\n",
              "      <td>15.0</td>\n",
              "      <td>1.5</td>\n",
              "      <td>150.0</td>\n",
              "      <td>0.0</td>\n",
              "      <td>3.0</td>\n",
              "      <td>6.807119</td>\n",
              "      <td>0.00</td>\n",
              "      <td>0.09</td>\n",
              "      <td>68.071191</td>\n",
              "      <td>20.00</td>\n",
              "    </tr>\n",
              "    <tr>\n",
              "      <th>4</th>\n",
              "      <td>1001</td>\n",
              "      <td>surf</td>\n",
              "      <td>11.0</td>\n",
              "      <td>64.0</td>\n",
              "      <td>404.59</td>\n",
              "      <td>36.0</td>\n",
              "      <td>18504.30</td>\n",
              "      <td>50</td>\n",
              "      <td>15360</td>\n",
              "      <td>500</td>\n",
              "      <td>...</td>\n",
              "      <td>15.0</td>\n",
              "      <td>1.5</td>\n",
              "      <td>150.0</td>\n",
              "      <td>0.0</td>\n",
              "      <td>0.0</td>\n",
              "      <td>3.070605</td>\n",
              "      <td>0.00</td>\n",
              "      <td>0.00</td>\n",
              "      <td>30.706055</td>\n",
              "      <td>20.00</td>\n",
              "    </tr>\n",
              "    <tr>\n",
              "      <th>5</th>\n",
              "      <td>1001</td>\n",
              "      <td>surf</td>\n",
              "      <td>12.0</td>\n",
              "      <td>56.0</td>\n",
              "      <td>392.93</td>\n",
              "      <td>44.0</td>\n",
              "      <td>19369.18</td>\n",
              "      <td>50</td>\n",
              "      <td>15360</td>\n",
              "      <td>500</td>\n",
              "      <td>...</td>\n",
              "      <td>15.0</td>\n",
              "      <td>1.5</td>\n",
              "      <td>150.0</td>\n",
              "      <td>0.0</td>\n",
              "      <td>0.0</td>\n",
              "      <td>3.915215</td>\n",
              "      <td>0.00</td>\n",
              "      <td>0.00</td>\n",
              "      <td>39.152148</td>\n",
              "      <td>20.00</td>\n",
              "    </tr>\n",
              "    <tr>\n",
              "      <th>6</th>\n",
              "      <td>1002</td>\n",
              "      <td>surf</td>\n",
              "      <td>10.0</td>\n",
              "      <td>11.0</td>\n",
              "      <td>54.13</td>\n",
              "      <td>15.0</td>\n",
              "      <td>6552.01</td>\n",
              "      <td>50</td>\n",
              "      <td>15360</td>\n",
              "      <td>500</td>\n",
              "      <td>...</td>\n",
              "      <td>15.0</td>\n",
              "      <td>1.5</td>\n",
              "      <td>150.0</td>\n",
              "      <td>0.0</td>\n",
              "      <td>0.0</td>\n",
              "      <td>0.000000</td>\n",
              "      <td>0.00</td>\n",
              "      <td>0.00</td>\n",
              "      <td>0.000000</td>\n",
              "      <td>20.00</td>\n",
              "    </tr>\n",
              "    <tr>\n",
              "      <th>7</th>\n",
              "      <td>1002</td>\n",
              "      <td>surf</td>\n",
              "      <td>11.0</td>\n",
              "      <td>55.0</td>\n",
              "      <td>359.76</td>\n",
              "      <td>32.0</td>\n",
              "      <td>19345.08</td>\n",
              "      <td>50</td>\n",
              "      <td>15360</td>\n",
              "      <td>500</td>\n",
              "      <td>...</td>\n",
              "      <td>15.0</td>\n",
              "      <td>1.5</td>\n",
              "      <td>150.0</td>\n",
              "      <td>0.0</td>\n",
              "      <td>0.0</td>\n",
              "      <td>3.891680</td>\n",
              "      <td>0.00</td>\n",
              "      <td>0.00</td>\n",
              "      <td>38.916797</td>\n",
              "      <td>20.00</td>\n",
              "    </tr>\n",
              "    <tr>\n",
              "      <th>8</th>\n",
              "      <td>1002</td>\n",
              "      <td>surf</td>\n",
              "      <td>12.0</td>\n",
              "      <td>47.0</td>\n",
              "      <td>363.24</td>\n",
              "      <td>41.0</td>\n",
              "      <td>14396.24</td>\n",
              "      <td>50</td>\n",
              "      <td>15360</td>\n",
              "      <td>500</td>\n",
              "      <td>...</td>\n",
              "      <td>15.0</td>\n",
              "      <td>1.5</td>\n",
              "      <td>150.0</td>\n",
              "      <td>0.0</td>\n",
              "      <td>0.0</td>\n",
              "      <td>0.000000</td>\n",
              "      <td>0.00</td>\n",
              "      <td>0.00</td>\n",
              "      <td>0.000000</td>\n",
              "      <td>20.00</td>\n",
              "    </tr>\n",
              "    <tr>\n",
              "      <th>9</th>\n",
              "      <td>1003</td>\n",
              "      <td>surf</td>\n",
              "      <td>12.0</td>\n",
              "      <td>149.0</td>\n",
              "      <td>1041.00</td>\n",
              "      <td>50.0</td>\n",
              "      <td>27044.14</td>\n",
              "      <td>50</td>\n",
              "      <td>15360</td>\n",
              "      <td>500</td>\n",
              "      <td>...</td>\n",
              "      <td>15.0</td>\n",
              "      <td>1.5</td>\n",
              "      <td>150.0</td>\n",
              "      <td>541.0</td>\n",
              "      <td>0.0</td>\n",
              "      <td>11.410293</td>\n",
              "      <td>16.23</td>\n",
              "      <td>0.00</td>\n",
              "      <td>114.102930</td>\n",
              "      <td>36.23</td>\n",
              "    </tr>\n",
              "  </tbody>\n",
              "</table>\n",
              "<p>10 rows × 25 columns</p>\n",
              "</div>"
            ],
            "text/plain": [
              "   user_id      plan  month  calls_made  minutes_used  messages_sent  \\\n",
              "0     1000  ultimate   12.0        16.0        116.83           11.0   \n",
              "1     1001      surf    8.0        27.0        171.14           30.0   \n",
              "2     1001      surf    9.0        49.0        297.69           44.0   \n",
              "3     1001      surf   10.0        65.0        374.11           53.0   \n",
              "4     1001      surf   11.0        64.0        404.59           36.0   \n",
              "5     1001      surf   12.0        56.0        392.93           44.0   \n",
              "6     1002      surf   10.0        11.0         54.13           15.0   \n",
              "7     1002      surf   11.0        55.0        359.76           32.0   \n",
              "8     1002      surf   12.0        47.0        363.24           41.0   \n",
              "9     1003      surf   12.0       149.0       1041.00           50.0   \n",
              "\n",
              "   mb_used_per_month  messages_included  mb_per_month_included  \\\n",
              "0            1901.47               1000                  30720   \n",
              "1            6919.15                 50                  15360   \n",
              "2           13314.82                 50                  15360   \n",
              "3           22330.49                 50                  15360   \n",
              "4           18504.30                 50                  15360   \n",
              "5           19369.18                 50                  15360   \n",
              "6            6552.01                 50                  15360   \n",
              "7           19345.08                 50                  15360   \n",
              "8           14396.24                 50                  15360   \n",
              "9           27044.14                 50                  15360   \n",
              "\n",
              "   minutes_included  ...  monthly_extra_minute_cost  \\\n",
              "0              3000  ...                       30.0   \n",
              "1               500  ...                       15.0   \n",
              "2               500  ...                       15.0   \n",
              "3               500  ...                       15.0   \n",
              "4               500  ...                       15.0   \n",
              "5               500  ...                       15.0   \n",
              "6               500  ...                       15.0   \n",
              "7               500  ...                       15.0   \n",
              "8               500  ...                       15.0   \n",
              "9               500  ...                       15.0   \n",
              "\n",
              "   monthly_extra_message_cost  monthly_extra_gb_cost  extra_minutes  \\\n",
              "0                        10.0                  210.0            0.0   \n",
              "1                         1.5                  150.0            0.0   \n",
              "2                         1.5                  150.0            0.0   \n",
              "3                         1.5                  150.0            0.0   \n",
              "4                         1.5                  150.0            0.0   \n",
              "5                         1.5                  150.0            0.0   \n",
              "6                         1.5                  150.0            0.0   \n",
              "7                         1.5                  150.0            0.0   \n",
              "8                         1.5                  150.0            0.0   \n",
              "9                         1.5                  150.0          541.0   \n",
              "\n",
              "  extra_messages   extra_gb  extra_minutes_cost  extra_messages_cost  \\\n",
              "0            0.0   0.000000                0.00                 0.00   \n",
              "1            0.0   0.000000                0.00                 0.00   \n",
              "2            0.0   0.000000                0.00                 0.00   \n",
              "3            3.0   6.807119                0.00                 0.09   \n",
              "4            0.0   3.070605                0.00                 0.00   \n",
              "5            0.0   3.915215                0.00                 0.00   \n",
              "6            0.0   0.000000                0.00                 0.00   \n",
              "7            0.0   3.891680                0.00                 0.00   \n",
              "8            0.0   0.000000                0.00                 0.00   \n",
              "9            0.0  11.410293               16.23                 0.00   \n",
              "\n",
              "   extra_gb_cost  monthly_revenue  \n",
              "0       0.000000            70.00  \n",
              "1       0.000000            20.00  \n",
              "2       0.000000            20.00  \n",
              "3      68.071191            20.00  \n",
              "4      30.706055            20.00  \n",
              "5      39.152148            20.00  \n",
              "6       0.000000            20.00  \n",
              "7      38.916797            20.00  \n",
              "8       0.000000            20.00  \n",
              "9     114.102930            36.23  \n",
              "\n",
              "[10 rows x 25 columns]"
            ]
          },
          "metadata": {},
          "output_type": "display_data"
        }
      ],
      "source": [
        "display(user_data.head(10))"
      ]
    },
    {
      "cell_type": "code",
      "execution_count": 49,
      "metadata": {},
      "outputs": [
        {
          "data": {
            "text/html": [
              "<div>\n",
              "<style scoped>\n",
              "    .dataframe tbody tr th:only-of-type {\n",
              "        vertical-align: middle;\n",
              "    }\n",
              "\n",
              "    .dataframe tbody tr th {\n",
              "        vertical-align: top;\n",
              "    }\n",
              "\n",
              "    .dataframe thead th {\n",
              "        text-align: right;\n",
              "    }\n",
              "</style>\n",
              "<table border=\"1\" class=\"dataframe\">\n",
              "  <thead>\n",
              "    <tr style=\"text-align: right;\">\n",
              "      <th></th>\n",
              "      <th>messages_included</th>\n",
              "      <th>mb_per_month_included</th>\n",
              "      <th>minutes_included</th>\n",
              "      <th>usd_monthly_pay</th>\n",
              "      <th>usd_per_gb</th>\n",
              "      <th>usd_per_message</th>\n",
              "      <th>usd_per_minute</th>\n",
              "      <th>plan_name</th>\n",
              "      <th>monthly_extra_minute_cost</th>\n",
              "      <th>monthly_extra_message_cost</th>\n",
              "      <th>monthly_extra_gb_cost</th>\n",
              "    </tr>\n",
              "  </thead>\n",
              "  <tbody>\n",
              "    <tr>\n",
              "      <th>0</th>\n",
              "      <td>50</td>\n",
              "      <td>15360</td>\n",
              "      <td>500</td>\n",
              "      <td>20</td>\n",
              "      <td>10</td>\n",
              "      <td>0.03</td>\n",
              "      <td>0.03</td>\n",
              "      <td>surf</td>\n",
              "      <td>15.0</td>\n",
              "      <td>1.5</td>\n",
              "      <td>150.0</td>\n",
              "    </tr>\n",
              "    <tr>\n",
              "      <th>1</th>\n",
              "      <td>1000</td>\n",
              "      <td>30720</td>\n",
              "      <td>3000</td>\n",
              "      <td>70</td>\n",
              "      <td>7</td>\n",
              "      <td>0.01</td>\n",
              "      <td>0.01</td>\n",
              "      <td>ultimate</td>\n",
              "      <td>30.0</td>\n",
              "      <td>10.0</td>\n",
              "      <td>210.0</td>\n",
              "    </tr>\n",
              "  </tbody>\n",
              "</table>\n",
              "</div>"
            ],
            "text/plain": [
              "   messages_included  mb_per_month_included  minutes_included  \\\n",
              "0                 50                  15360               500   \n",
              "1               1000                  30720              3000   \n",
              "\n",
              "   usd_monthly_pay  usd_per_gb  usd_per_message  usd_per_minute plan_name  \\\n",
              "0               20          10             0.03            0.03      surf   \n",
              "1               70           7             0.01            0.01  ultimate   \n",
              "\n",
              "   monthly_extra_minute_cost  monthly_extra_message_cost  \\\n",
              "0                       15.0                         1.5   \n",
              "1                       30.0                        10.0   \n",
              "\n",
              "   monthly_extra_gb_cost  \n",
              "0                  150.0  \n",
              "1                  210.0  "
            ]
          },
          "metadata": {},
          "output_type": "display_data"
        }
      ],
      "source": [
        "display(megaline_plans.head(10))"
      ]
    },
    {
      "cell_type": "code",
      "execution_count": 32,
      "metadata": {
        "colab": {
          "base_uri": "https://localhost:8080/"
        },
        "id": "0dNOXHag0q1H",
        "outputId": "c0c9942c-d23a-4285-b653-25be5a9e201f"
      },
      "outputs": [
        {
          "name": "stdout",
          "output_type": "stream",
          "text": [
            "   user_id      plan  month  calls_made  minutes_used  messages_sent  \\\n",
            "0     1000  ultimate   12.0        16.0        116.83           11.0   \n",
            "1     1001      surf    8.0        27.0        171.14           30.0   \n",
            "2     1001      surf    9.0        49.0        297.69           44.0   \n",
            "3     1001      surf   10.0        65.0        374.11           53.0   \n",
            "4     1001      surf   11.0        64.0        404.59           36.0   \n",
            "\n",
            "   mb_used_per_month  messages_included  mb_per_month_included  \\\n",
            "0            1901.47               1000                  30720   \n",
            "1            6919.15                 50                  15360   \n",
            "2           13314.82                 50                  15360   \n",
            "3           22330.49                 50                  15360   \n",
            "4           18504.30                 50                  15360   \n",
            "\n",
            "   minutes_included  usd_monthly_pay  usd_per_gb  usd_per_message  \\\n",
            "0              3000               70           7             0.01   \n",
            "1               500               20          10             0.03   \n",
            "2               500               20          10             0.03   \n",
            "3               500               20          10             0.03   \n",
            "4               500               20          10             0.03   \n",
            "\n",
            "   usd_per_minute plan_name  monthly_extra_minute_cost  \\\n",
            "0            0.01  ultimate                       30.0   \n",
            "1            0.03      surf                       15.0   \n",
            "2            0.03      surf                       15.0   \n",
            "3            0.03      surf                       15.0   \n",
            "4            0.03      surf                       15.0   \n",
            "\n",
            "   monthly_extra_message_cost  monthly_extra_gb_cost  \n",
            "0                        10.0                  210.0  \n",
            "1                         1.5                  150.0  \n",
            "2                         1.5                  150.0  \n",
            "3                         1.5                  150.0  \n",
            "4                         1.5                  150.0  \n"
          ]
        }
      ],
      "source": [
        "# Añade la información de la tarifa/Plan\n",
        "\n",
        "# Fusionar la información de la tarifa\n",
        "user_data = user_data.merge(megaline_plans, left_on='plan', right_on='plan_name', how='left')\n",
        "\n",
        "# Mostrar el DataFrame resultante\n",
        "print(user_data.head())\n"
      ]
    },
    {
      "cell_type": "markdown",
      "metadata": {
        "id": "1IwGo4wg0q1I"
      },
      "source": [
        "[Calcula los ingresos mensuales por usuario (resta el límite del paquete gratuito del número total de llamadas, mensajes de texto y datos; multiplica el resultado por el valor del plan de llamadas; añade la tarifa mensual en función del plan de llamadas). Nota: Dadas las condiciones del plan, ¡esto podría no ser tan trivial como un par de líneas! Así que no pasa nada si dedicas algo de tiempo a ello.]"
      ]
    },
    {
      "cell_type": "code",
      "execution_count": 33,
      "metadata": {
        "colab": {
          "base_uri": "https://localhost:8080/"
        },
        "id": "5FGCf_c60q1I",
        "outputId": "788376af-62d4-4b5a-a8dd-6ae9e6fd897d"
      },
      "outputs": [
        {
          "name": "stdout",
          "output_type": "stream",
          "text": [
            "   user_id  month      plan  monthly_revenue\n",
            "0     1000   12.0  ultimate             70.0\n",
            "1     1001    8.0      surf             20.0\n",
            "2     1001    9.0      surf             20.0\n",
            "3     1001   10.0      surf             20.0\n",
            "4     1001   11.0      surf             20.0\n"
          ]
        }
      ],
      "source": [
        "# Calcula el ingreso mensual para cada usuario\n",
        "\n",
        "# Calcular exceso de minutos, mensajes y datos\n",
        "user_data['extra_minutes'] = user_data['minutes_used'] - user_data['minutes_included']\n",
        "user_data['extra_minutes'] = user_data['extra_minutes'].apply(lambda x: x if x > 0 else 0)\n",
        "\n",
        "user_data['extra_messages'] = user_data['messages_sent'] - user_data['messages_included']\n",
        "user_data['extra_messages'] = user_data['extra_messages'].apply(lambda x: x if x > 0 else 0)\n",
        "\n",
        "user_data['extra_gb'] = (user_data['mb_used_per_month'] / 1024) - (user_data['mb_per_month_included'] / 1024)\n",
        "user_data['extra_gb'] = user_data['extra_gb'].apply(lambda x: x if x > 0 else 0)\n",
        "\n",
        "# Calcular el costo adicional\n",
        "user_data['extra_minutes_cost'] = user_data['extra_minutes'] * user_data['usd_per_minute']\n",
        "user_data['extra_messages_cost'] = user_data['extra_messages'] * user_data['usd_per_message']\n",
        "user_data['extra_gb_cost'] = user_data['extra_gb'] * user_data['usd_per_gb']\n",
        "\n",
        "# Calcular el ingreso mensual total\n",
        "user_data['monthly_revenue'] = user_data['usd_monthly_pay'] + user_data['extra_minutes_cost']\n",
        "+ user_data['extra_messages_cost'] + user_data['extra_gb_cost']\n",
        "\n",
        "# Mostrar las primeras filas del DataFrame resultante\n",
        "print(user_data[['user_id', 'month', 'plan', 'monthly_revenue']].head())\n"
      ]
    },
    {
      "cell_type": "markdown",
      "metadata": {
        "id": "-jtyHzJb0q1I"
      },
      "source": [
        "## Estudia el comportamiento de usuario"
      ]
    },
    {
      "cell_type": "markdown",
      "metadata": {
        "id": "vtW4CJEe0q1J"
      },
      "source": [
        "### Llamadas"
      ]
    },
    {
      "cell_type": "code",
      "execution_count": 34,
      "metadata": {
        "colab": {
          "base_uri": "https://localhost:8080/",
          "height": 1000
        },
        "id": "Jf5v5--k0q1J",
        "outputId": "106520c2-0d31-40b2-db38-6a599edfbd15"
      },
      "outputs": [
        {
          "name": "stdout",
          "output_type": "stream",
          "text": [
            "        plan  month  average_call_duration\n",
            "0       surf    1.0             192.840000\n",
            "1       surf    2.0             280.851111\n",
            "2       surf    3.0             310.970000\n",
            "3       surf    4.0             332.380000\n",
            "4       surf    5.0             387.108000\n",
            "5       surf    6.0             411.450625\n",
            "6       surf    7.0             428.060917\n",
            "7       surf    8.0             394.474717\n",
            "8       surf    9.0             397.133298\n",
            "9       surf   10.0             414.435733\n",
            "10      surf   11.0             408.255415\n",
            "11      surf   12.0             457.547074\n",
            "12  ultimate    1.0             183.162500\n",
            "13  ultimate    2.0             443.171667\n",
            "14  ultimate    3.0             285.701667\n",
            "15  ultimate    4.0             316.508095\n",
            "16  ultimate    5.0             383.664828\n",
            "17  ultimate    6.0             365.358222\n",
            "18  ultimate    7.0             403.767288\n",
            "19  ultimate    8.0             397.274789\n",
            "20  ultimate    9.0             413.287326\n",
            "21  ultimate   10.0             429.217238\n",
            "22  ultimate   11.0             423.814683\n",
            "23  ultimate   12.0             438.824832\n"
          ]
        },
        {
          "data": {
            "image/png": "[encoded data removed]",
            "text/plain": [
              "<Figure size 1200x600 with 1 Axes>"
            ]
          },
          "metadata": {},
          "output_type": "display_data"
        }
      ],
      "source": [
        "# Compara la duración promedio de llamadas por cada plan y por cada mes. Traza un gráfico de barras para visualizarla.\n",
        "\n",
        "# Calcular la duración promedio de llamadas por cada plan y por cada mes\n",
        "average_call_duration = user_data.groupby(['plan', 'month']).agg({'minutes_used': 'mean'}).reset_index()\n",
        "average_call_duration.rename(columns={'minutes_used': 'average_call_duration'}, inplace=True)\n",
        "print(average_call_duration)\n",
        "\n",
        "# Gráfico de barras de la duración promedio de llamadas por cada plan y por cada mes\n",
        "plt.figure(figsize=(12, 6))\n",
        "sns.barplot(data=average_call_duration, x='month', y='average_call_duration', hue='plan')\n",
        "plt.title('Duración Promedio de Llamadas por Plan y por Mes')\n",
        "plt.xlabel('Mes')\n",
        "plt.ylabel('Duración Promedio de Llamadas (minutos)')\n",
        "plt.legend(title='Plan')\n",
        "plt.show()"
      ]
    },
    {
      "cell_type": "code",
      "execution_count": 35,
      "metadata": {
        "colab": {
          "base_uri": "https://localhost:8080/",
          "height": 1000
        },
        "id": "QoLqW1S_0q1J",
        "outputId": "dd73b68e-dda8-4f73-ba1f-f567e4784871"
      },
      "outputs": [
        {
          "name": "stdout",
          "output_type": "stream",
          "text": [
            "        plan  month  minutes_used\n",
            "0       surf    1.0        385.68\n",
            "1       surf    2.0       2527.66\n",
            "2       surf    3.0       7152.31\n",
            "3       surf    4.0      16619.00\n",
            "4       surf    5.0      29033.10\n",
            "5       surf    6.0      39499.26\n",
            "6       surf    7.0      51367.31\n",
            "7       surf    8.0      62721.48\n",
            "8       surf    9.0      75852.46\n",
            "9       surf   10.0      96149.09\n",
            "10      surf   11.0     113086.75\n",
            "11      surf   12.0     142297.14\n",
            "12  ultimate    1.0        732.65\n",
            "13  ultimate    2.0       2659.03\n",
            "14  ultimate    3.0       3428.42\n",
            "15  ultimate    4.0       6646.67\n",
            "16  ultimate    5.0      11126.28\n",
            "17  ultimate    6.0      16441.12\n",
            "18  ultimate    7.0      23822.27\n",
            "19  ultimate    8.0      28206.51\n",
            "20  ultimate    9.0      35542.71\n",
            "21  ultimate   10.0      45067.81\n",
            "22  ultimate   11.0      53400.65\n",
            "23  ultimate   12.0      65384.90\n"
          ]
        },
        {
          "name": "stderr",
          "output_type": "stream",
          "text": [
            "C:\\Users\\aleco\\AppData\\Local\\Temp\\ipykernel_10616\\1165359559.py:13: UserWarning: No artists with labels found to put in legend.  Note that artists whose label start with an underscore are ignored when legend() is called with no argument.\n",
            "  plt.legend(title='Plan')\n"
          ]
        },
        {
          "data": {
            "image/png": "[encoded data removed]",
            "text/plain": [
              "<Figure size 1200x600 with 1 Axes>"
            ]
          },
          "metadata": {},
          "output_type": "display_data"
        }
      ],
      "source": [
        "# Compara el número de minutos mensuales que necesitan los usuarios de cada plan. Traza un histograma.\n",
        "\n",
        "# Calcular la cantidad total de minutos por cada plan y por cada mes\n",
        "total_minutes_per_plan = user_data.groupby(['plan', 'month']).agg({'minutes_used': 'sum'}).reset_index()\n",
        "print(total_minutes_per_plan)\n",
        "\n",
        "# Histograma del número de minutos mensuales que necesitan los usuarios de cada plan\n",
        "plt.figure(figsize=(12, 6))\n",
        "sns.histplot(data=user_data, x='minutes_used', hue='plan', multiple='dodge', bins=30)\n",
        "plt.title('Número de Minutos Mensuales que Necesitan los Usuarios de Cada Plan')\n",
        "plt.xlabel('Minutos Usados')\n",
        "plt.ylabel('Frecuencia')\n",
        "plt.legend(title='Plan')\n",
        "plt.show()\n"
      ]
    },
    {
      "cell_type": "code",
      "execution_count": 36,
      "metadata": {
        "colab": {
          "base_uri": "https://localhost:8080/"
        },
        "id": "oSndbAnt0q1K",
        "outputId": "c1bf718c-d92c-40d9-a8de-30d38188bb8c"
      },
      "outputs": [
        {
          "name": "stdout",
          "output_type": "stream",
          "text": [
            "        plan  month  mean_call_duration  var_call_duration\n",
            "0       surf    1.0          192.840000       14795.440200\n",
            "1       surf    2.0          280.851111       46959.219961\n",
            "2       surf    3.0          310.970000       31821.317991\n",
            "3       surf    4.0          332.380000       45615.666796\n",
            "4       surf    5.0          387.108000       50778.127459\n",
            "5       surf    6.0          411.450625       39424.054023\n",
            "6       surf    7.0          428.060917       53364.540232\n",
            "7       surf    8.0          394.474717       46639.240873\n",
            "8       surf    9.0          397.133298       39785.302974\n",
            "9       surf   10.0          414.435733       44103.681803\n",
            "10      surf   11.0          408.255415       43560.874928\n",
            "11      surf   12.0          457.547074       53646.781898\n",
            "12  ultimate    1.0          183.162500       14991.369958\n",
            "13  ultimate    2.0          443.171667       48579.581537\n",
            "14  ultimate    3.0          285.701667       54273.917252\n",
            "15  ultimate    4.0          316.508095       31057.727496\n",
            "16  ultimate    5.0          383.664828       39290.610940\n",
            "17  ultimate    6.0          365.358222       33837.770156\n",
            "18  ultimate    7.0          403.767288       64844.426958\n",
            "19  ultimate    8.0          397.274789       47680.189425\n",
            "20  ultimate    9.0          413.287326       50994.505514\n",
            "21  ultimate   10.0          429.217238       47081.623851\n",
            "22  ultimate   11.0          423.814683       53273.637319\n",
            "23  ultimate   12.0          438.824832       53967.731609\n"
          ]
        }
      ],
      "source": [
        "# Calcula la media y la varianza de la duración mensual de llamadas por plan y por mes.\n",
        "\n",
        "call_duration_stats = user_data.groupby(['plan', 'month']).agg({'minutes_used': ['mean', 'var']}).reset_index()\n",
        "call_duration_stats.columns = ['plan', 'month', 'mean_call_duration', 'var_call_duration']\n",
        "\n",
        "print(call_duration_stats)"
      ]
    },
    {
      "cell_type": "code",
      "execution_count": 51,
      "metadata": {
        "colab": {
          "base_uri": "https://localhost:8080/",
          "height": 573
        },
        "id": "nZzoRUKc0q1K",
        "outputId": "cc5fd064-a8b7-44a2-a7d9-8ac7c3e24938"
      },
      "outputs": [
        {
          "name": "stderr",
          "output_type": "stream",
          "text": [
            "C:\\Users\\aleco\\AppData\\Local\\Temp\\ipykernel_10616\\432018749.py:4: FutureWarning: \n",
            "\n",
            "Passing `palette` without assigning `hue` is deprecated and will be removed in v0.14.0. Assign the `x` variable to `hue` and set `legend=False` for the same effect.\n",
            "\n",
            "  sns.boxplot(data=user_data, x='plan', y='minutes_used', palette=['blue', 'orange'])\n"
          ]
        },
        {
          "data": {
            "image/png": "[encoded data removed]",
            "text/plain": [
              "<Figure size 1200x600 with 1 Axes>"
            ]
          },
          "metadata": {},
          "output_type": "display_data"
        }
      ],
      "source": [
        "# Traza un diagrama de caja para visualizar la distribución de la duración mensual de llamadas\n",
        "\n",
        "plt.figure(figsize=(12, 6))\n",
        "sns.boxplot(data=user_data, x='plan', y='minutes_used', palette=['blue', 'orange'])\n",
        "plt.title('Distribución de la Duración Mensual de Llamadas por Plan')\n",
        "plt.xlabel('Plan')\n",
        "plt.ylabel('Duración Mensual de Llamadas (minutos)')\n",
        "plt.show()\n"
      ]
    },
    {
      "cell_type": "markdown",
      "metadata": {},
      "source": [
        "La diferencia radica en cómo se mide y se visualiza la variabilidad:\n",
        "\n",
        "- **Varianza:** Es una medida numérica que considera la dispersión de todos los datos respecto a la media, elevando al cuadrado las diferencias. Esto hace que incluso unos pocos valores extremos aumenten significativamente la varianza.\n",
        "\n",
        "- **Boxplot:** Este gráfico se centra en la distribución central de los datos mediante la mediana y el rango intercuartílico (IQR). Los outliers se muestran de forma separada y no se incluyen en la \"caja\", por lo que, a simple vista, la mayor parte de los datos puede parecer concentrada en un rango estrecho, a pesar de que algunos valores lejanos existan.\n",
        "\n",
        "Por lo tanto, aunque la varianza muestre altos valores debido a la influencia de unos pocos extremos, el boxplot puede dar la impresión de poca variabilidad en la parte central de la distribución."
      ]
    },
    {
      "cell_type": "markdown",
      "metadata": {
        "id": "8idKy8Wh0q1L"
      },
      "source": [
        "### Mensajes"
      ]
    },
    {
      "cell_type": "code",
      "execution_count": 38,
      "metadata": {
        "colab": {
          "base_uri": "https://localhost:8080/",
          "height": 1000
        },
        "id": "NXLxiTit0q1L",
        "outputId": "0ca5b0e2-9b7b-4c8d-bfb0-1372afc5c56b"
      },
      "outputs": [
        {
          "name": "stdout",
          "output_type": "stream",
          "text": [
            "        plan  month  average_messages_sent\n",
            "0       surf    1.0              21.000000\n",
            "1       surf    2.0              21.600000\n",
            "2       surf    3.0              21.937500\n",
            "3       surf    4.0              24.166667\n",
            "4       surf    5.0              33.870370\n",
            "5       surf    6.0              33.708333\n",
            "6       surf    7.0              36.033333\n",
            "7       surf    8.0              37.917355\n",
            "8       surf    9.0              39.202703\n",
            "9       surf   10.0              41.945652\n",
            "10      surf   11.0              40.436364\n",
            "11      surf   12.0              48.113360\n",
            "12  ultimate    1.0              20.666667\n",
            "13  ultimate    2.0              27.800000\n",
            "14  ultimate    3.0              34.714286\n",
            "15  ultimate    4.0              28.937500\n",
            "16  ultimate    5.0              44.333333\n",
            "17  ultimate    6.0              37.135135\n",
            "18  ultimate    7.0              41.212766\n",
            "19  ultimate    8.0              47.929825\n",
            "20  ultimate    9.0              45.901408\n",
            "21  ultimate   10.0              47.488636\n",
            "22  ultimate   11.0              47.656863\n",
            "23  ultimate   12.0              53.744000\n"
          ]
        },
        {
          "data": {
            "image/png": "[encoded data removed]",
            "text/plain": [
              "<Figure size 1200x600 with 1 Axes>"
            ]
          },
          "metadata": {},
          "output_type": "display_data"
        }
      ],
      "source": [
        "# Compara el número de mensajes que tienden a enviar cada mes los usuarios de cada plan\n",
        "\n",
        "# Calcular la cantidad promedio de mensajes enviados por cada usuario al mes\n",
        "average_messages_sent = user_data.groupby(['plan', 'month']).agg({'messages_sent': 'mean'}).reset_index()\n",
        "average_messages_sent.rename(columns={'messages_sent': 'average_messages_sent'}, inplace=True)\n",
        "print(average_messages_sent)\n",
        "\n",
        "# Gráfico de barras del número promedio de mensajes enviados por plan y por mes\n",
        "plt.figure(figsize=(12, 6))\n",
        "sns.barplot(data=average_messages_sent, x='month', y='average_messages_sent', hue='plan')\n",
        "plt.title('Número Promedio de Mensajes Enviados por Plan y por Mes')\n",
        "plt.xlabel('Mes')\n",
        "plt.ylabel('Número Promedio de Mensajes Enviados')\n",
        "plt.legend(title='Plan')\n",
        "plt.show()"
      ]
    },
    {
      "cell_type": "markdown",
      "metadata": {
        "id": "390SSL480q1M"
      },
      "source": [
        "1. Número promedio de mensajes enviados por mes\n",
        "Cantidad de Mensajes:\n",
        "\n",
        "Los usuarios del plan Ultimate tienden a enviar significativamente más mensajes por mes en comparación con los usuarios del plan Surf.\n",
        "\n",
        "Esto es consistente con las condiciones del plan, ya que Ultimate incluye 1000 SMS al mes, mientras que Surf solo incluye 50 SMS.\n",
        "\n",
        "2. Variabilidad en el número de mensajes enviados\n",
        "Varianza en el Envío de Mensajes:\n",
        "\n",
        "La variabilidad en el número de mensajes enviados es mayor para los usuarios del plan Ultimate.\n",
        "\n",
        "Esta mayor variabilidad sugiere que algunos usuarios de Ultimate aprovechan al máximo los SMS incluidos en su plan, mientras que otros pueden no enviar tantos mensajes.\n",
        "\n",
        "3. Patrones Mensuales\n",
        "Estacionalidad y Tendencias:\n",
        "\n",
        "Los gráficos muestran si hay algún patrón estacional en el envío de mensajes, como picos en ciertos meses."
      ]
    },
    {
      "cell_type": "code",
      "execution_count": 39,
      "metadata": {
        "colab": {
          "base_uri": "https://localhost:8080/"
        },
        "id": "GRI_R7xF0q1L",
        "outputId": "b0824031-4871-4e45-e5a8-691c602abba7"
      },
      "outputs": [
        {
          "name": "stdout",
          "output_type": "stream",
          "text": [
            "        plan  month  average_data_usage\n",
            "0       surf    1.0         4874.860000\n",
            "1       surf    2.0        12178.843333\n",
            "2       surf    3.0        13345.440000\n",
            "3       surf    4.0        12228.778571\n",
            "4       surf    5.0        14393.399054\n",
            "5       surf    6.0        15634.162660\n",
            "6       surf    7.0        16926.484538\n",
            "7       surf    8.0        17194.533526\n",
            "8       surf    9.0        16528.132526\n",
            "9       surf   10.0        17465.927424\n",
            "10      surf   11.0        16408.859564\n",
            "11      surf   12.0        18038.817935\n",
            "12  ultimate    1.0         6918.092500\n",
            "13  ultimate    2.0        17884.958333\n",
            "14  ultimate    3.0        18321.518333\n",
            "15  ultimate    4.0        16121.654762\n",
            "16  ultimate    5.0        16624.482414\n",
            "17  ultimate    6.0        15920.383333\n",
            "18  ultimate    7.0        16344.744407\n",
            "19  ultimate    8.0        17814.720141\n",
            "20  ultimate    9.0        16969.869535\n",
            "21  ultimate   10.0        17780.292000\n",
            "22  ultimate   11.0        16999.453095\n",
            "23  ultimate   12.0        18321.065436\n"
          ]
        }
      ],
      "source": [
        "# Compara la cantidad de tráfico de Internet consumido por usuarios por plan\n",
        "\n",
        "# Calcular la cantidad promedio de tráfico de Internet utilizado por cada usuario al mes\n",
        "average_data_usage = user_data.groupby(['plan', 'month']).agg({'mb_used_per_month': 'mean'}).reset_index()\n",
        "average_data_usage.rename(columns={'mb_used_per_month': 'average_data_usage'}, inplace=True)\n",
        "print(average_data_usage)\n"
      ]
    },
    {
      "cell_type": "markdown",
      "metadata": {
        "id": "42YSypXz0q1M"
      },
      "source": [
        "### Internet"
      ]
    },
    {
      "cell_type": "code",
      "execution_count": 40,
      "metadata": {
        "colab": {
          "base_uri": "https://localhost:8080/",
          "height": 573
        },
        "id": "lSuKPtjh0q1M",
        "outputId": "aff977f6-f555-4557-bf80-30361733625f"
      },
      "outputs": [
        {
          "data": {
            "image/png": "[encoded data removed]",
            "text/plain": [
              "<Figure size 1200x600 with 1 Axes>"
            ]
          },
          "metadata": {},
          "output_type": "display_data"
        }
      ],
      "source": [
        "\n",
        "# Gráfico de barras del uso promedio de datos por plan y por mes\n",
        "plt.figure(figsize=(12, 6))\n",
        "sns.barplot(data=average_data_usage, x='month', y='average_data_usage', hue='plan')\n",
        "plt.title('Uso Promedio de Datos por Plan y por Mes')\n",
        "plt.xlabel('Mes')\n",
        "plt.ylabel('Uso Promedio de Datos (MB)')\n",
        "plt.legend(title='Plan')\n",
        "plt.show()"
      ]
    },
    {
      "cell_type": "markdown",
      "metadata": {
        "id": "UN9zwuMP0q1N"
      },
      "source": [
        "El comportamiento de los usuarios con respecto al consumo de datos varía significativamente en función del plan. Los usuarios del plan Ultimate tienden a consumir más datos, lo cual es lógico dado el mayor número de GB incluidos en su tarifa. La mayor varianza en el consumo de datos por parte de los usuarios de Ultimate sugiere que tienen más flexibilidad y menos preocupación por los costos adicionales.\n",
        "\n",
        "Estas observaciones ayudan a entender cómo los diferentes planes afectan el comportamiento de los usuarios y pueden proporcionar información valiosa para ajustar las estrategias de marketing y precios de Megaline."
      ]
    },
    {
      "cell_type": "markdown",
      "metadata": {
        "id": "tCijq3260q1N"
      },
      "source": [
        "## Ingreso"
      ]
    },
    {
      "cell_type": "code",
      "execution_count": 56,
      "metadata": {
        "colab": {
          "base_uri": "https://localhost:8080/"
        },
        "id": "tz-dq_V00q1O",
        "outputId": "747bf7a4-c599-4f7c-9de5-aae1f8b8ef91"
      },
      "outputs": [
        {
          "name": "stdout",
          "output_type": "stream",
          "text": [
            "       plan  mean_monthly_revenue  var_monthly_revenue\n",
            "0      surf              21.47881              10.9877\n",
            "1  ultimate              70.00000               0.0000\n"
          ]
        }
      ],
      "source": [
        "# Calcular la media y la varianza de los ingresos mensuales por plan\n",
        "income_stats = user_data.groupby('plan').agg({'monthly_revenue': ['mean', 'var']}).reset_index()\n",
        "income_stats.columns = ['plan', 'mean_monthly_revenue', 'var_monthly_revenue']\n",
        "print(income_stats)"
      ]
    },
    {
      "cell_type": "code",
      "execution_count": 59,
      "metadata": {
        "colab": {
          "base_uri": "https://localhost:8080/",
          "height": 573
        },
        "id": "0Y1v8ZUz0q1P",
        "outputId": "25f7352d-b0a5-4543-e67c-de40a0c2cdc0"
      },
      "outputs": [
        {
          "name": "stderr",
          "output_type": "stream",
          "text": [
            "C:\\Users\\aleco\\AppData\\Local\\Temp\\ipykernel_10616\\365689380.py:3: FutureWarning: \n",
            "\n",
            "Passing `palette` without assigning `hue` is deprecated and will be removed in v0.14.0. Assign the `x` variable to `hue` and set `legend=False` for the same effect.\n",
            "\n",
            "  sns.boxplot(data=user_data, x='plan', y='monthly_revenue', palette=['blue', 'orange'])\n"
          ]
        },
        {
          "data": {
            "image/png": "[encoded data removed]",
            "text/plain": [
              "<Figure size 1200x600 with 1 Axes>"
            ]
          },
          "metadata": {},
          "output_type": "display_data"
        }
      ],
      "source": [
        "# Diagrama de caja para visualizar la distribución de los ingresos mensuales por plan\n",
        "plt.figure(figsize=(12, 6))\n",
        "sns.boxplot(data=user_data, x='plan', y='monthly_revenue', palette=['blue', 'orange'])\n",
        "plt.title('Distribución de los Ingresos Mensuales por Plan')\n",
        "plt.xlabel('Plan')\n",
        "plt.ylabel('Ingresos Mensuales ($)')\n",
        "plt.show()"
      ]
    },
    {
      "cell_type": "markdown",
      "metadata": {},
      "source": [
        "A partir de este boxplot se pueden extraer las siguientes conclusiones:\n",
        "\n",
        "- **Distribución concentrada para el plan \"ultimate\":** La mayoría de los ingresos mensuales se agrupan alrededor de los 70 dólares, lo que indica que los usuarios de este plan tienen ingresos consistentemente altos y uniformes, sin evidencia de valores extremos o dispersión.\n",
        "- **Mayor variabilidad en el plan \"surf\":** Para el plan \"surf\", los ingresos mensuales muestran una mediana alrededor de los 20 dólares y una distribución mucho más dispersa, con varios outliers que elevan los valores hacia los 60 dólares. Esto sugiere que los usuarios de este plan presentan comportamientos o situaciones económicas más heterogéneos.\n",
        "\n",
        "En resumen, el boxplot evidencia que el plan \"ultimate\" genera ingresos consistentes y altos, mientras que el plan \"surf\" se caracteriza por una mayor dispersión en los ingresos mensuales, lo que podría reflejar una mayor diversidad en el perfil de sus usuarios o en la forma en que se generan los ingresos."
      ]
    },
    {
      "cell_type": "code",
      "execution_count": 60,
      "metadata": {
        "colab": {
          "base_uri": "https://localhost:8080/",
          "height": 573
        },
        "id": "bYmwxyVh0q1P",
        "outputId": "a546d7df-1462-4784-ee8b-927c91360875"
      },
      "outputs": [
        {
          "name": "stderr",
          "output_type": "stream",
          "text": [
            "C:\\Users\\aleco\\AppData\\Local\\Temp\\ipykernel_10616\\1350889690.py:3: FutureWarning: \n",
            "\n",
            "Passing `palette` without assigning `hue` is deprecated and will be removed in v0.14.0. Assign the `x` variable to `hue` and set `legend=False` for the same effect.\n",
            "\n",
            "  sns.barplot(data=income_stats, x='plan', y='mean_monthly_revenue', palette=['blue', 'orange'])\n"
          ]
        },
        {
          "data": {
            "image/png": "[encoded data removed]",
            "text/plain": [
              "<Figure size 1200x600 with 1 Axes>"
            ]
          },
          "metadata": {},
          "output_type": "display_data"
        }
      ],
      "source": [
        "# Gráfico de barras de la media de los ingresos mensuales por plan\n",
        "plt.figure(figsize=(12, 6))\n",
        "sns.barplot(data=income_stats, x='plan', y='mean_monthly_revenue', palette=['blue', 'orange'])\n",
        "plt.title('Media de los Ingresos Mensuales por Plan')\n",
        "plt.xlabel('Plan')\n",
        "plt.ylabel('Media de Ingresos Mensuales ($)')\n",
        "plt.show()"
      ]
    },
    {
      "cell_type": "markdown",
      "metadata": {
        "id": "KAFidcXZ0q1P"
      },
      "source": [
        "La gráfica de barras permite extraer las siguientes conclusiones:\n",
        "\n",
        "- **Diferencia considerable en ingresos:** El plan *ultimate* genera en promedio aproximadamente 70 dólares mensuales, mientras que el plan *surf* alcanza apenas unos 20 dólares, lo que indica una diferencia significativa en los ingresos medios por usuario.\n",
        "\n",
        "- **Segmentación de mercado:** Esta diferencia sugiere que los usuarios que optan por el plan *ultimate* pueden estar dispuestos a pagar más (o recibir más valor) que los del plan *surf*, lo cual puede apuntar a diferentes perfiles de clientes o a estrategias de precios distintas.\n",
        "\n",
        "- **Potencial de negocio:** Al observar que el plan *ultimate* tiene ingresos promedio significativamente más altos, se podría inferir que enfocar esfuerzos en esta línea podría generar mayores ingresos, o, alternativamente, se podrían revisar las condiciones del plan *surf* si se busca aumentar su rentabilidad.\n",
        "\n",
        "En resumen, la gráfica destaca que el plan *ultimate* aporta considerablemente más ingresos mensuales en promedio, lo que abre la puerta a estrategias diferenciadas para maximizar el valor de cada segmento de mercado."
      ]
    },
    {
      "cell_type": "markdown",
      "metadata": {
        "id": "ajJ7VKeI0q1Q"
      },
      "source": [
        "## Prueba las hipótesis estadísticas"
      ]
    },
    {
      "cell_type": "markdown",
      "metadata": {
        "id": "AdXAZ-yL0q1Q"
      },
      "source": [
        "[Prueba la hipótesis de que son diferentes los ingresos promedio procedentes de los usuarios de los planes de llamada Ultimate y Surf.]"
      ]
    },
    {
      "cell_type": "markdown",
      "metadata": {
        "id": "IQwa_hsh0q1Q"
      },
      "source": [
        "[Elabora las hipótesis nula y alternativa, escoge la prueba estadística, determina el valor alfa.]"
      ]
    },
    {
      "cell_type": "markdown",
      "metadata": {},
      "source": [
        "hipotesis de 2 colas ya que tenemos que comprobar si es = o !="
      ]
    },
    {
      "cell_type": "code",
      "execution_count": 61,
      "metadata": {},
      "outputs": [
        {
          "name": "stdout",
          "output_type": "stream",
          "text": [
            "T-statistic: 577.7790285537726\n",
            "P-value: 0.0\n",
            "Alpha: 0.05\n",
            "Rechazamos la hipótesis nula. Hay una diferencia significativa en los ingresos promedio entre los usuarios de los planes Ultimate y Surf.\n"
          ]
        },
        {
          "name": "stderr",
          "output_type": "stream",
          "text": [
            "C:\\Users\\aleco\\AppData\\Roaming\\Python\\Python312\\site-packages\\scipy\\stats\\_axis_nan_policy.py:586: RuntimeWarning: Precision loss occurred in moment calculation due to catastrophic cancellation. This occurs when the data are nearly identical. Results may be unreliable.\n",
            "  res = hypotest_fun_out(*samples, **kwds)\n"
          ]
        }
      ],
      "source": [
        "import scipy.stats as st\n",
        "\n",
        "# Filtrar los ingresos mensuales por plan\n",
        "ultimate_revenue = user_data[user_data['plan'] == 'ultimate']['monthly_revenue']\n",
        "surf_revenue = user_data[user_data['plan'] == 'surf']['monthly_revenue']\n",
        "\n",
        "# Realizar la prueba t de dos muestras independientes\n",
        "t_stat, p_value = st.ttest_ind(ultimate_revenue, surf_revenue, equal_var=False)\n",
        "\n",
        "# Determinar el valor alfa\n",
        "alpha = 0.05\n",
        "\n",
        "# Imprimir los resultados\n",
        "print(f\"T-statistic: {t_stat}\")\n",
        "print(f\"P-value: {p_value}\")\n",
        "print(f\"Alpha: {alpha}\")\n",
        "\n",
        "# Interpretación de los resultados\n",
        "if p_value < alpha:\n",
        "    print(\"Rechazamos la hipótesis nula. Hay una diferencia significativa en los ingresos promedio entre los usuarios de los planes Ultimate y Surf.\")\n",
        "else:\n",
        "    print(\"No podemos rechazar la hipótesis nula. No hay suficiente evidencia para afirmar que los ingresos promedio entre los usuarios de los planes Ultimate y Surf son diferentes.\")"
      ]
    },
    {
      "cell_type": "markdown",
      "metadata": {
        "id": "tCcAruM60q1R"
      },
      "source": [
        "[Prueba la hipótesis de que el ingreso promedio de los usuarios del área NY-NJ es diferente al de los usuarios de otras regiones.]"
      ]
    },
    {
      "cell_type": "markdown",
      "metadata": {
        "id": "LsBgitqj0q1R"
      },
      "source": [
        "[Elabora las hipótesis nula y alternativa, escoge la prueba estadística, determina el valor alfa.]"
      ]
    },
    {
      "cell_type": "code",
      "execution_count": null,
      "metadata": {
        "colab": {
          "base_uri": "https://localhost:8080/"
        },
        "id": "QWh0dJkgSUlL",
        "outputId": "d3ba92bf-334c-4900-8067-48eb43ab8f8f"
      },
      "outputs": [
        {
          "name": "stdout",
          "output_type": "stream",
          "text": [
            "city               0\n",
            "monthly_revenue    0\n",
            "dtype: int64\n",
            "NY-NJ Users Count: 0\n",
            "Other Users Count: 2277\n"
          ]
        }
      ],
      "source": [
        "# Verificar datos nulos en las columnas relevantes\n",
        "print(user_data[['city', 'monthly_revenue']].isnull().sum())\n",
        "\n",
        "# Contar el número de datos en cada grupo\n",
        "ny_nj_users_count = user_data[user_data['city'].isin(['New York', 'Newark', 'Jersey City'])]['monthly_revenue'].count()\n",
        "other_users_count = user_data[~user_data['city'].isin(['New York', 'Newark', 'Jersey City'])]['monthly_revenue'].count()\n",
        "\n",
        "print(f\"NY-NJ Users Count: {ny_nj_users_count}\")\n",
        "print(f\"Other Users Count: {other_users_count}\")"
      ]
    },
    {
      "cell_type": "code",
      "execution_count": null,
      "metadata": {
        "colab": {
          "base_uri": "https://localhost:8080/"
        },
        "id": "0tbfmF2ASwXp",
        "outputId": "4004640e-91d0-4567-83a5-05bcc713aa5c"
      },
      "outputs": [
        {
          "name": "stdout",
          "output_type": "stream",
          "text": [
            "T-statistic: -7.25825244969198\n",
            "P-value: 8.627613432167201e-13\n",
            "Alpha: 0.05\n",
            "Rechazamos la hipótesis nula. Hay una diferencia significativa en el ingreso promedio entre los usuarios del área NY-NJ y los usuarios de otras regiones.\n"
          ]
        }
      ],
      "source": [
        "from scipy import stats\n",
        "\n",
        "# Filtrar los ingresos mensuales por plan asegurándonos de manejar datos nulos\n",
        "ny_nj_users = user_data[user_data['city'].str.contains('NY|NJ|Newark', regex=True)]['monthly_revenue'].dropna()\n",
        "other_users = user_data[~user_data['city'].str.contains('NY|NJ|Newark', regex=True)]['monthly_revenue'].dropna()\n",
        "\n",
        "# Realizar la prueba t de dos muestras independientes\n",
        "t_stat, p_value = stats.ttest_ind(ny_nj_users, other_users, equal_var=False)\n",
        "\n",
        "# Determinar el valor alfa\n",
        "alpha = 0.05\n",
        "\n",
        "# Imprimir los resultados\n",
        "print(f\"T-statistic: {t_stat}\")\n",
        "print(f\"P-value: {p_value}\")\n",
        "print(f\"Alpha: {alpha}\")\n",
        "\n",
        "# Interpretación de los resultados\n",
        "if p_value < alpha:\n",
        "    print(\"Rechazamos la hipótesis nula. Hay una diferencia significativa en el ingreso promedio entre los usuarios del área NY-NJ y los usuarios de otras regiones.\")\n",
        "else:\n",
        "    print(\"No podemos rechazar la hipótesis nula. No hay suficiente evidencia para afirmar que el ingreso promedio entre los usuarios del área NY-NJ y los usuarios de otras regiones es diferente.\")\n"
      ]
    },
    {
      "cell_type": "markdown",
      "metadata": {},
      "source": [
        "El parámetro `regex=True` indica que el patrón que se pasa a la función (`'NY|NJ|Newark'` en este caso) debe interpretarse como una expresión regular. Esto significa que se usa la sintaxis de expresiones regulares para hacer la búsqueda; por ejemplo, el símbolo `|` actúa como un \"o\", lo que permite que se encuentren coincidencias cuando la cadena contiene \"NY\", \"NJ\" o \"Newark\". Si se configurara `regex=False`, el patrón se trataría como un texto literal sin interpretar los caracteres especiales de una expresión regular."
      ]
    },
    {
      "cell_type": "markdown",
      "metadata": {},
      "source": [
        "Quizás haya alguna confusión con la notación científica, pero recuerda que 8.63e-13 es un número diminuto (muy cercano a cero) y, en consecuencia, la evidencia es abrumadora para descartar la igualdad de los ingresos promedio.\n"
      ]
    },
    {
      "cell_type": "markdown",
      "metadata": {
        "id": "bbTR8UQO0q1T"
      },
      "source": [
        "## Conclusión general\n",
        "\n",
        "\n",
        "1. Limpieza y Enriquecimiento de Datos\n",
        "Limpieza: Aseguramos que los datos estuvieran limpios y libres de valores nulos, y convertimos las fechas a los formatos adecuados.\n",
        "\n",
        "Enriquecimiento: Agregamos factores adicionales a los datos, como la duración de la suscripción en días y la categorización de la duración de las llamadas y el uso de datos.\n",
        "\n",
        "2. Análisis de los Ingresos\n",
        "Ingresos Medios: El plan Ultimate genera más ingresos mensuales en promedio en comparación con el plan Surf.\n",
        "\n",
        "Variabilidad: La variabilidad en los ingresos mensuales es mayor para el plan Ultimate, indicando que los ingresos pueden ser más volátiles.\n",
        "\n",
        "3. Pruebas de Hipótesis\n",
        "Planes Ultimate y Surf: Realizamos una prueba t para comparar los ingresos promedio entre los usuarios de los planes Ultimate y Surf. Los resultados indicaron una diferencia significativa en los ingresos promedio, con el plan Ultimate generando más ingresos.\n",
        "\n",
        "Área NY-NJ vs Otras Regiones: Realizamos una prueba t para comparar los ingresos promedio entre los usuarios del área NY-NJ y otras regiones. Los resultados indicaron una diferencia significativa en los ingresos promedio, con los usuarios del área NY-NJ generando más ingresos.\n",
        "\n",
        "4. Decisiones y Suposiciones Importantes\n",
        "\n",
        "Fusión de Datos: Unimos múltiples DataFrames para tener un registro completo de los consumos de cada usuario por mes.\n",
        "\n",
        "Enriquecimiento: Agregamos columnas adicionales para categorizar y mejorar los datos.\n",
        "\n",
        "Visualización: Utilizamos gráficos de barras, diagramas de caja y otras visualizaciones para entender mejor los patrones de uso y los ingresos.\n",
        "\n",
        "Pruebas de Hipótesis: Seleccionamos y realizamos pruebas t para comparar ingresos y validar nuestras observaciones con significancia estadística."
      ]
    }
  ],
  "metadata": {
    "ExecuteTimeLog": [
      {
        "duration": 828,
        "start_time": "2021-11-16T09:21:11.304Z"
      },
      {
        "duration": 893,
        "start_time": "2021-11-16T09:21:17.728Z"
      },
      {
        "duration": 1150,
        "start_time": "2021-11-16T09:21:29.568Z"
      },
      {
        "duration": 3,
        "start_time": "2021-11-16T09:24:14.495Z"
      },
      {
        "duration": 120,
        "start_time": "2021-11-16T09:24:46.630Z"
      },
      {
        "duration": 3,
        "start_time": "2021-11-16T09:28:27.882Z"
      },
      {
        "duration": 4,
        "start_time": "2021-11-16T09:29:54.281Z"
      },
      {
        "duration": 3,
        "start_time": "2021-11-16T09:30:45.936Z"
      },
      {
        "duration": 4,
        "start_time": "2021-11-16T09:31:06.300Z"
      },
      {
        "duration": 113,
        "start_time": "2021-11-16T09:31:37.208Z"
      },
      {
        "duration": 143,
        "start_time": "2021-11-16T09:31:48.656Z"
      },
      {
        "duration": 98,
        "start_time": "2021-11-16T09:31:55.678Z"
      },
      {
        "duration": 3,
        "start_time": "2021-11-16T09:32:08.535Z"
      },
      {
        "duration": 111,
        "start_time": "2021-11-16T09:32:10.120Z"
      },
      {
        "duration": 3,
        "start_time": "2021-11-16T09:32:15.732Z"
      },
      {
        "duration": 4,
        "start_time": "2021-11-16T09:32:29.423Z"
      },
      {
        "duration": 3,
        "start_time": "2021-11-16T10:03:03.074Z"
      },
      {
        "duration": 3,
        "start_time": "2021-11-16T10:10:01.288Z"
      },
      {
        "duration": 3,
        "start_time": "2021-11-16T10:10:46.923Z"
      },
      {
        "duration": 121,
        "start_time": "2021-11-16T10:37:46.494Z"
      },
      {
        "duration": 125,
        "start_time": "2021-11-16T10:38:20.632Z"
      },
      {
        "duration": 112,
        "start_time": "2021-11-16T10:46:53.001Z"
      },
      {
        "duration": 110,
        "start_time": "2021-11-16T10:48:25.775Z"
      },
      {
        "duration": 3,
        "start_time": "2021-11-16T10:50:18.720Z"
      },
      {
        "duration": 4,
        "start_time": "2021-11-16T10:50:37.649Z"
      },
      {
        "duration": 2,
        "start_time": "2021-11-16T10:50:51.884Z"
      },
      {
        "duration": 3,
        "start_time": "2021-11-16T10:51:56.237Z"
      },
      {
        "duration": 101,
        "start_time": "2021-11-16T10:53:13.791Z"
      },
      {
        "duration": 3,
        "start_time": "2021-11-16T10:55:59.186Z"
      },
      {
        "duration": 3,
        "start_time": "2021-11-16T10:56:10.751Z"
      },
      {
        "duration": 3,
        "start_time": "2021-11-16T10:56:49.038Z"
      },
      {
        "duration": 3,
        "start_time": "2021-11-16T10:56:49.174Z"
      },
      {
        "duration": 4,
        "start_time": "2021-11-16T10:56:49.414Z"
      },
      {
        "duration": 3,
        "start_time": "2021-11-16T10:56:49.680Z"
      },
      {
        "duration": 3,
        "start_time": "2021-11-16T10:56:50.370Z"
      },
      {
        "duration": 114,
        "start_time": "2021-11-16T10:59:34.518Z"
      },
      {
        "duration": 3,
        "start_time": "2021-11-16T11:01:41.201Z"
      },
      {
        "duration": 116,
        "start_time": "2021-11-16T11:01:48.754Z"
      },
      {
        "duration": 3,
        "start_time": "2021-11-16T11:02:16.685Z"
      },
      {
        "duration": 3,
        "start_time": "2021-11-16T11:02:19.479Z"
      },
      {
        "duration": 3,
        "start_time": "2021-11-16T11:02:47.067Z"
      },
      {
        "duration": 3,
        "start_time": "2021-11-16T11:02:49.353Z"
      },
      {
        "duration": 3,
        "start_time": "2021-11-16T11:03:07.835Z"
      },
      {
        "duration": 3,
        "start_time": "2021-11-16T11:03:07.953Z"
      },
      {
        "duration": 112,
        "start_time": "2021-11-16T11:07:52.072Z"
      },
      {
        "duration": 187,
        "start_time": "2021-11-16T11:09:23.468Z"
      },
      {
        "duration": 4,
        "start_time": "2021-11-16T11:10:01.455Z"
      },
      {
        "duration": 3,
        "start_time": "2021-11-16T11:10:05.069Z"
      },
      {
        "duration": 4,
        "start_time": "2021-11-16T11:10:13.376Z"
      },
      {
        "duration": 3,
        "start_time": "2021-11-16T11:10:14.434Z"
      },
      {
        "duration": 3,
        "start_time": "2021-11-16T11:10:22.853Z"
      },
      {
        "duration": 4,
        "start_time": "2021-11-16T11:27:29.279Z"
      },
      {
        "duration": 4,
        "start_time": "2021-11-16T11:29:08.919Z"
      },
      {
        "duration": 118,
        "start_time": "2021-11-16T11:29:46.703Z"
      },
      {
        "duration": 437,
        "start_time": "2021-11-16T11:36:02.181Z"
      },
      {
        "duration": 157,
        "start_time": "2021-11-16T11:36:14.388Z"
      },
      {
        "duration": 207,
        "start_time": "2021-11-16T11:47:15.898Z"
      },
      {
        "duration": 3,
        "start_time": "2021-11-16T11:53:52.092Z"
      },
      {
        "duration": 3,
        "start_time": "2021-11-16T11:53:52.236Z"
      },
      {
        "duration": 3,
        "start_time": "2021-11-16T11:59:12.005Z"
      },
      {
        "duration": 112,
        "start_time": "2021-11-16T12:00:33.446Z"
      },
      {
        "duration": 3,
        "start_time": "2021-11-16T12:02:14.453Z"
      },
      {
        "duration": 3,
        "start_time": "2021-11-16T12:02:39.512Z"
      },
      {
        "duration": 106,
        "start_time": "2021-11-16T12:03:03.460Z"
      },
      {
        "duration": 3,
        "start_time": "2021-11-17T20:37:21.139Z"
      },
      {
        "duration": 3,
        "start_time": "2021-11-17T20:37:22.229Z"
      },
      {
        "duration": 3,
        "start_time": "2021-11-17T20:38:38.806Z"
      },
      {
        "duration": 3,
        "start_time": "2021-11-17T20:38:41.958Z"
      },
      {
        "duration": 3,
        "start_time": "2021-11-17T20:43:46.551Z"
      },
      {
        "duration": 4,
        "start_time": "2021-11-17T20:58:21.835Z"
      },
      {
        "duration": 3,
        "start_time": "2021-11-17T20:59:21.872Z"
      },
      {
        "duration": 4,
        "start_time": "2021-11-17T20:59:45.352Z"
      },
      {
        "duration": 4,
        "start_time": "2021-11-17T20:59:49.646Z"
      },
      {
        "duration": 159,
        "start_time": "2021-11-17T21:02:26.949Z"
      },
      {
        "duration": 3,
        "start_time": "2021-11-17T21:03:53.461Z"
      },
      {
        "duration": 3,
        "start_time": "2021-11-17T21:03:53.694Z"
      },
      {
        "duration": 3,
        "start_time": "2021-11-17T21:05:28.145Z"
      },
      {
        "duration": 116,
        "start_time": "2021-11-17T21:05:57.787Z"
      },
      {
        "duration": 3,
        "start_time": "2021-11-17T21:06:37.993Z"
      },
      {
        "duration": 3,
        "start_time": "2021-11-17T21:06:38.261Z"
      },
      {
        "duration": 3,
        "start_time": "2021-11-17T21:11:54.358Z"
      },
      {
        "duration": 3,
        "start_time": "2021-11-17T21:12:43.846Z"
      },
      {
        "duration": 4,
        "start_time": "2021-11-17T21:13:08.773Z"
      },
      {
        "duration": 3,
        "start_time": "2021-11-17T21:14:44.441Z"
      },
      {
        "duration": 3,
        "start_time": "2021-11-17T21:15:42.059Z"
      },
      {
        "duration": 4,
        "start_time": "2021-11-17T21:15:51.995Z"
      },
      {
        "duration": 3,
        "start_time": "2021-11-17T21:15:53.923Z"
      },
      {
        "duration": 3,
        "start_time": "2021-11-17T21:15:55.282Z"
      },
      {
        "duration": 3,
        "start_time": "2021-11-17T21:16:28.492Z"
      },
      {
        "duration": 3,
        "start_time": "2021-11-17T21:16:32.603Z"
      },
      {
        "duration": 3,
        "start_time": "2021-11-17T21:17:06.941Z"
      },
      {
        "duration": 98,
        "start_time": "2021-11-17T21:18:05.733Z"
      },
      {
        "duration": 4,
        "start_time": "2021-11-17T21:21:35.255Z"
      },
      {
        "duration": 3,
        "start_time": "2021-11-17T21:21:37.804Z"
      },
      {
        "duration": 4,
        "start_time": "2021-11-17T21:23:06.071Z"
      },
      {
        "duration": 3,
        "start_time": "2021-11-17T21:23:24.799Z"
      },
      {
        "duration": 3,
        "start_time": "2021-11-17T21:23:32.591Z"
      },
      {
        "duration": 98,
        "start_time": "2021-11-17T21:28:31.559Z"
      },
      {
        "duration": 3,
        "start_time": "2021-11-17T21:28:45.448Z"
      },
      {
        "duration": 3,
        "start_time": "2021-11-17T21:29:17.303Z"
      },
      {
        "duration": 3,
        "start_time": "2021-11-17T21:29:29.617Z"
      },
      {
        "duration": 3,
        "start_time": "2021-11-17T21:29:32.681Z"
      },
      {
        "duration": 3,
        "start_time": "2021-11-17T21:36:11.474Z"
      },
      {
        "duration": 3,
        "start_time": "2021-11-17T21:36:14.791Z"
      },
      {
        "duration": 3,
        "start_time": "2021-11-17T21:36:53.943Z"
      },
      {
        "duration": 3,
        "start_time": "2021-11-17T21:36:56.165Z"
      },
      {
        "duration": 4,
        "start_time": "2021-11-17T21:37:16.590Z"
      },
      {
        "duration": 3,
        "start_time": "2021-11-17T21:37:22.702Z"
      },
      {
        "duration": 4,
        "start_time": "2021-11-17T21:38:03.479Z"
      },
      {
        "duration": 3,
        "start_time": "2021-11-17T21:38:08.601Z"
      },
      {
        "duration": 3,
        "start_time": "2021-11-17T21:38:12.928Z"
      },
      {
        "duration": 3,
        "start_time": "2021-11-17T21:38:48.896Z"
      },
      {
        "duration": 2,
        "start_time": "2021-11-17T21:38:49.171Z"
      },
      {
        "duration": 4,
        "start_time": "2021-11-17T21:39:57.889Z"
      },
      {
        "duration": 3,
        "start_time": "2021-11-17T21:39:58.057Z"
      },
      {
        "duration": 3,
        "start_time": "2021-11-17T21:41:20.108Z"
      },
      {
        "duration": 3,
        "start_time": "2021-11-17T21:41:20.629Z"
      },
      {
        "duration": 3,
        "start_time": "2021-11-17T21:42:49.136Z"
      },
      {
        "duration": 3,
        "start_time": "2021-11-17T21:43:15.137Z"
      },
      {
        "duration": 4,
        "start_time": "2021-11-17T21:43:16.766Z"
      },
      {
        "duration": 4,
        "start_time": "2021-11-17T21:43:31.711Z"
      },
      {
        "duration": 3,
        "start_time": "2021-11-17T21:43:36.312Z"
      },
      {
        "duration": 4,
        "start_time": "2021-11-17T21:45:08.825Z"
      },
      {
        "duration": 4,
        "start_time": "2021-11-17T21:45:10.119Z"
      },
      {
        "duration": 4,
        "start_time": "2021-11-17T21:45:13.748Z"
      },
      {
        "duration": 3,
        "start_time": "2021-11-17T21:45:22.219Z"
      },
      {
        "duration": 3,
        "start_time": "2021-11-17T21:45:33.412Z"
      },
      {
        "duration": 2,
        "start_time": "2021-11-17T21:46:01.885Z"
      },
      {
        "duration": 3,
        "start_time": "2021-11-17T21:46:03.628Z"
      },
      {
        "duration": 107,
        "start_time": "2021-11-17T21:47:32.512Z"
      },
      {
        "duration": 103,
        "start_time": "2021-11-17T21:50:36.243Z"
      },
      {
        "duration": 3,
        "start_time": "2021-11-18T06:28:31.440Z"
      },
      {
        "duration": 3,
        "start_time": "2021-11-18T06:29:00.168Z"
      },
      {
        "duration": 3,
        "start_time": "2021-11-18T06:31:27.008Z"
      },
      {
        "duration": 2,
        "start_time": "2021-11-18T06:35:34.288Z"
      },
      {
        "duration": 2,
        "start_time": "2021-11-18T06:38:04.527Z"
      }
    ],
    "colab": {
      "provenance": []
    },
    "kernelspec": {
      "display_name": "Python 3",
      "language": "python",
      "name": "python3"
    },
    "language_info": {
      "codemirror_mode": {
        "name": "ipython",
        "version": 3
      },
      "file_extension": ".py",
      "mimetype": "text/x-python",
      "name": "python",
      "nbconvert_exporter": "python",
      "pygments_lexer": "ipython3",
      "version": "3.12.9"
    },
    "toc": {
      "base_numbering": 1,
      "nav_menu": {},
      "number_sections": true,
      "sideBar": true,
      "skip_h1_title": false,
      "title_cell": "Table of Contents",
      "title_sidebar": "Contents",
      "toc_cell": false,
      "toc_position": {},
      "toc_section_display": true,
      "toc_window_display": true
    }
  },
  "nbformat": 4,
  "nbformat_minor": 0
}
